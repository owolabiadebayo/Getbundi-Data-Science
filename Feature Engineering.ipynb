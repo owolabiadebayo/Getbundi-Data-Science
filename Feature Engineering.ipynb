{
 "cells": [
  {
   "attachments": {},
   "cell_type": "markdown",
   "metadata": {},
   "source": [
    "![26_weeks_of_data_science_banner](../images/26-weeks-of-data-science-banner.jpg)"
   ]
  },
  {
   "attachments": {},
   "cell_type": "markdown",
   "metadata": {
    "slideshow": {
     "slide_type": "slide"
    }
   },
   "source": [
    "<h1 align=\"center\">**Feature Engineering**</h1>"
   ]
  },
  {
   "attachments": {},
   "cell_type": "markdown",
   "metadata": {
    "slideshow": {
     "slide_type": "slide"
    }
   },
   "source": [
    "## What are we going to learn today?\n",
    "***\n",
    "\n",
    "- Data Cleaning and Preprocessing\n",
    "\t- Handling Outliers\n",
    "\t\t- Univariate methods\n",
    "\t\t- Multivariate methods\n",
    "\t\t- Algorithmic methods\n",
    "\t- Handling Missing Values\n",
    "\t\t- Removing records (rows) that contain a missing value\n",
    "\t\t- Removing features (columns) that contain a missing value\n",
    "        - Missing values imputation\n",
    "\t\t- Impute missing values with a mean, median or mode value of the column\n",
    "\t\t- Impute missing values with a value estimated by another predictive model\n",
    "\t\t- Use algorithms that support missing values\n",
    "\t- Handling Skewness\n",
    "\t\t- Replacing the data with the log, square root, or inverse transformed data.\n",
    "    - Feature Extraction\n",
    "\t\t- Standardization\n",
    "\t\t- Scaling\n",
    "\t- Algebraic Transformations\n",
    "\t\n",
    "\t\t\t\t"
   ]
  },
  {
   "attachments": {},
   "cell_type": "markdown",
   "metadata": {
    "slideshow": {
     "slide_type": "slide"
    }
   },
   "source": [
    "Until now all the data that we have seen so far has been clean or pre-cleaned.\n",
    "In real-life we rarely get such clean datasets. "
   ]
  },
  {
   "attachments": {},
   "cell_type": "markdown",
   "metadata": {
    "slideshow": {
     "slide_type": "slide"
    }
   },
   "source": [
    "##  Our Concerns\n",
    "***\n",
    "After dealing with outliers, we realised the significance of a clean data set. So we decided to learn more about data cleaning and data manipulation.\n",
    "\n",
    "We use the data that we have collected so far.\n",
    "\n",
    "Let's see how to proceed!"
   ]
  },
  {
   "cell_type": "code",
   "execution_count": 11,
   "metadata": {
    "slideshow": {
     "slide_type": "slide"
    }
   },
   "outputs": [
    {
     "name": "stdout",
     "output_type": "stream",
     "text": [
      "\n",
      "Usage:   \n",
      "  /Applications/Xcode.app/Contents/Developer/usr/bin/python3 -m pip install [options] <requirement specifier> [package-index-options] ...\n",
      "  /Applications/Xcode.app/Contents/Developer/usr/bin/python3 -m pip install [options] -r <requirements file> [package-index-options] ...\n",
      "  /Applications/Xcode.app/Contents/Developer/usr/bin/python3 -m pip install [options] [-e] <vcs project url> ...\n",
      "  /Applications/Xcode.app/Contents/Developer/usr/bin/python3 -m pip install [options] [-e] <local project path> ...\n",
      "  /Applications/Xcode.app/Contents/Developer/usr/bin/python3 -m pip install [options] <archive url/path> ...\n",
      "\n",
      "no such option: -u\n",
      "Note: you may need to restart the kernel to use updated packages.\n"
     ]
    }
   ],
   "source": [
    "import numpy as np \n",
    "import pandas as pd\n",
    "%matplotlib inline\n",
    "import matplotlib.pyplot as plt  \n",
    "import seaborn as sns\n",
    "from scipy import stats\n",
    "#For some Statistics\n",
    "from scipy.stats import norm, skew\n",
    "%pip install -u scikit-learn\n",
    "from sklearn.impute import SimpleImputer"
   ]
  },
  {
   "attachments": {},
   "cell_type": "markdown",
   "metadata": {
    "slideshow": {
     "slide_type": "subslide"
    }
   },
   "source": [
    "We considered some of the initial entries and realised the data :-\n",
    "- Had missing values\n",
    "- Had outliers\n",
    "- Was sub-optimally represented \n"
   ]
  },
  {
   "cell_type": "code",
   "execution_count": 12,
   "metadata": {
    "slideshow": {
     "slide_type": "subslide"
    }
   },
   "outputs": [
    {
     "data": {
      "text/html": [
       "<div>\n",
       "<style scoped>\n",
       "    .dataframe tbody tr th:only-of-type {\n",
       "        vertical-align: middle;\n",
       "    }\n",
       "\n",
       "    .dataframe tbody tr th {\n",
       "        vertical-align: top;\n",
       "    }\n",
       "\n",
       "    .dataframe thead th {\n",
       "        text-align: right;\n",
       "    }\n",
       "</style>\n",
       "<table border=\"1\" class=\"dataframe\">\n",
       "  <thead>\n",
       "    <tr style=\"text-align: right;\">\n",
       "      <th></th>\n",
       "      <th>MSSubClass</th>\n",
       "      <th>MSZoning</th>\n",
       "      <th>LotFrontage</th>\n",
       "      <th>LotArea</th>\n",
       "      <th>Street</th>\n",
       "      <th>Alley</th>\n",
       "      <th>LotShape</th>\n",
       "      <th>LandContour</th>\n",
       "      <th>Utilities</th>\n",
       "      <th>LotConfig</th>\n",
       "      <th>...</th>\n",
       "      <th>PoolArea</th>\n",
       "      <th>PoolQC</th>\n",
       "      <th>Fence</th>\n",
       "      <th>MiscFeature</th>\n",
       "      <th>MiscVal</th>\n",
       "      <th>MoSold</th>\n",
       "      <th>YrSold</th>\n",
       "      <th>SaleType</th>\n",
       "      <th>SaleCondition</th>\n",
       "      <th>SalePrice</th>\n",
       "    </tr>\n",
       "    <tr>\n",
       "      <th>Id</th>\n",
       "      <th></th>\n",
       "      <th></th>\n",
       "      <th></th>\n",
       "      <th></th>\n",
       "      <th></th>\n",
       "      <th></th>\n",
       "      <th></th>\n",
       "      <th></th>\n",
       "      <th></th>\n",
       "      <th></th>\n",
       "      <th></th>\n",
       "      <th></th>\n",
       "      <th></th>\n",
       "      <th></th>\n",
       "      <th></th>\n",
       "      <th></th>\n",
       "      <th></th>\n",
       "      <th></th>\n",
       "      <th></th>\n",
       "      <th></th>\n",
       "      <th></th>\n",
       "    </tr>\n",
       "  </thead>\n",
       "  <tbody>\n",
       "    <tr>\n",
       "      <th>1</th>\n",
       "      <td>60</td>\n",
       "      <td>RL</td>\n",
       "      <td>65.0</td>\n",
       "      <td>8450</td>\n",
       "      <td>Pave</td>\n",
       "      <td>NaN</td>\n",
       "      <td>Reg</td>\n",
       "      <td>Lvl</td>\n",
       "      <td>AllPub</td>\n",
       "      <td>Inside</td>\n",
       "      <td>...</td>\n",
       "      <td>0</td>\n",
       "      <td>NaN</td>\n",
       "      <td>NaN</td>\n",
       "      <td>NaN</td>\n",
       "      <td>0</td>\n",
       "      <td>2</td>\n",
       "      <td>2008</td>\n",
       "      <td>WD</td>\n",
       "      <td>Normal</td>\n",
       "      <td>208500</td>\n",
       "    </tr>\n",
       "    <tr>\n",
       "      <th>2</th>\n",
       "      <td>20</td>\n",
       "      <td>RL</td>\n",
       "      <td>80.0</td>\n",
       "      <td>9600</td>\n",
       "      <td>Pave</td>\n",
       "      <td>NaN</td>\n",
       "      <td>Reg</td>\n",
       "      <td>Lvl</td>\n",
       "      <td>AllPub</td>\n",
       "      <td>FR2</td>\n",
       "      <td>...</td>\n",
       "      <td>0</td>\n",
       "      <td>NaN</td>\n",
       "      <td>NaN</td>\n",
       "      <td>NaN</td>\n",
       "      <td>0</td>\n",
       "      <td>5</td>\n",
       "      <td>2007</td>\n",
       "      <td>WD</td>\n",
       "      <td>Normal</td>\n",
       "      <td>181500</td>\n",
       "    </tr>\n",
       "    <tr>\n",
       "      <th>3</th>\n",
       "      <td>60</td>\n",
       "      <td>RL</td>\n",
       "      <td>68.0</td>\n",
       "      <td>11250</td>\n",
       "      <td>Pave</td>\n",
       "      <td>NaN</td>\n",
       "      <td>IR1</td>\n",
       "      <td>Lvl</td>\n",
       "      <td>AllPub</td>\n",
       "      <td>Inside</td>\n",
       "      <td>...</td>\n",
       "      <td>0</td>\n",
       "      <td>NaN</td>\n",
       "      <td>NaN</td>\n",
       "      <td>NaN</td>\n",
       "      <td>0</td>\n",
       "      <td>9</td>\n",
       "      <td>2008</td>\n",
       "      <td>WD</td>\n",
       "      <td>Normal</td>\n",
       "      <td>223500</td>\n",
       "    </tr>\n",
       "    <tr>\n",
       "      <th>4</th>\n",
       "      <td>70</td>\n",
       "      <td>RL</td>\n",
       "      <td>60.0</td>\n",
       "      <td>9550</td>\n",
       "      <td>Pave</td>\n",
       "      <td>NaN</td>\n",
       "      <td>IR1</td>\n",
       "      <td>Lvl</td>\n",
       "      <td>AllPub</td>\n",
       "      <td>Corner</td>\n",
       "      <td>...</td>\n",
       "      <td>0</td>\n",
       "      <td>NaN</td>\n",
       "      <td>NaN</td>\n",
       "      <td>NaN</td>\n",
       "      <td>0</td>\n",
       "      <td>2</td>\n",
       "      <td>2006</td>\n",
       "      <td>WD</td>\n",
       "      <td>Abnorml</td>\n",
       "      <td>140000</td>\n",
       "    </tr>\n",
       "    <tr>\n",
       "      <th>5</th>\n",
       "      <td>60</td>\n",
       "      <td>RL</td>\n",
       "      <td>84.0</td>\n",
       "      <td>14260</td>\n",
       "      <td>Pave</td>\n",
       "      <td>NaN</td>\n",
       "      <td>IR1</td>\n",
       "      <td>Lvl</td>\n",
       "      <td>AllPub</td>\n",
       "      <td>FR2</td>\n",
       "      <td>...</td>\n",
       "      <td>0</td>\n",
       "      <td>NaN</td>\n",
       "      <td>NaN</td>\n",
       "      <td>NaN</td>\n",
       "      <td>0</td>\n",
       "      <td>12</td>\n",
       "      <td>2008</td>\n",
       "      <td>WD</td>\n",
       "      <td>Normal</td>\n",
       "      <td>250000</td>\n",
       "    </tr>\n",
       "  </tbody>\n",
       "</table>\n",
       "<p>5 rows × 80 columns</p>\n",
       "</div>"
      ],
      "text/plain": [
       "    MSSubClass MSZoning  LotFrontage  LotArea Street Alley LotShape  \\\n",
       "Id                                                                    \n",
       "1           60       RL         65.0     8450   Pave   NaN      Reg   \n",
       "2           20       RL         80.0     9600   Pave   NaN      Reg   \n",
       "3           60       RL         68.0    11250   Pave   NaN      IR1   \n",
       "4           70       RL         60.0     9550   Pave   NaN      IR1   \n",
       "5           60       RL         84.0    14260   Pave   NaN      IR1   \n",
       "\n",
       "   LandContour Utilities LotConfig  ... PoolArea PoolQC Fence MiscFeature  \\\n",
       "Id                                  ...                                     \n",
       "1          Lvl    AllPub    Inside  ...        0    NaN   NaN         NaN   \n",
       "2          Lvl    AllPub       FR2  ...        0    NaN   NaN         NaN   \n",
       "3          Lvl    AllPub    Inside  ...        0    NaN   NaN         NaN   \n",
       "4          Lvl    AllPub    Corner  ...        0    NaN   NaN         NaN   \n",
       "5          Lvl    AllPub       FR2  ...        0    NaN   NaN         NaN   \n",
       "\n",
       "   MiscVal MoSold  YrSold  SaleType  SaleCondition  SalePrice  \n",
       "Id                                                             \n",
       "1        0      2    2008        WD         Normal     208500  \n",
       "2        0      5    2007        WD         Normal     181500  \n",
       "3        0      9    2008        WD         Normal     223500  \n",
       "4        0      2    2006        WD        Abnorml     140000  \n",
       "5        0     12    2008        WD         Normal     250000  \n",
       "\n",
       "[5 rows x 80 columns]"
      ]
     },
     "execution_count": 12,
     "metadata": {},
     "output_type": "execute_result"
    }
   ],
   "source": [
    "# Let's import the set\n",
    "df = pd.read_csv('./train.csv',index_col=0)\n",
    "\n",
    "df.head()"
   ]
  },
  {
   "attachments": {},
   "cell_type": "markdown",
   "metadata": {
    "slideshow": {
     "slide_type": "slide"
    }
   },
   "source": [
    "## Treatment of Data\n",
    "***\n",
    "We have already applied linear regression on the house pricing dataset and it didn't seem to be very helpful.\n",
    "\n",
    "We know that we cannot apply a ML model on this raw data currently.\n",
    "\n",
    "Stuck with this, we decide to treat the data and create new relevant features using the following techniques:\n",
    "- Data Cleaning and Pre-processing\n",
    "- Feature Extraction\n",
    "- Feature Engineering\n",
    "\n",
    "Let’s see how these techniques can help:"
   ]
  },
  {
   "attachments": {},
   "cell_type": "markdown",
   "metadata": {
    "slideshow": {
     "slide_type": "subslide"
    }
   },
   "source": [
    "\n",
    "## Data Cleaning and Pre-processing\n",
    "***\n",
    "Data cleaning and preprocessing involves following techniques\n",
    "- Handling outliers\n",
    "- Handling missing values\n",
    "- Handling skewness"
   ]
  },
  {
   "attachments": {},
   "cell_type": "markdown",
   "metadata": {
    "slideshow": {
     "slide_type": "slide"
    }
   },
   "source": [
    "<img src=\"../images/Concept-Alert.png\" alt=\"Concept-Alert\" style=\"width: 100px;float:left; margin-right:15px\"/>\n",
    "<br />\n",
    "\n",
    "### Handling Outilers\n",
    "***"
   ]
  },
  {
   "attachments": {},
   "cell_type": "markdown",
   "metadata": {
    "slideshow": {
     "slide_type": "subslide"
    }
   },
   "source": [
    "**Why Outlier Treatment?**\n",
    "***\n",
    "Let's plot some numerical features in order to study their behaviour\n",
    "\n",
    "Let's see how the plot of  *GrLivArea vs SalePrice* looks like.  "
   ]
  },
  {
   "cell_type": "code",
   "execution_count": 6,
   "metadata": {
    "slideshow": {
     "slide_type": "subslide"
    }
   },
   "outputs": [
    {
     "data": {
      "image/png": "[encoded data removed]",
      "text/plain": [
       "<Figure size 640x480 with 1 Axes>"
      ]
     },
     "metadata": {},
     "output_type": "display_data"
    }
   ],
   "source": [
    "#Scatter plot GrLivArea vs SalePrice\n",
    "data = pd.concat([df['SalePrice'], df['GrLivArea']], axis=1)\n",
    "data.plot.scatter(x='GrLivArea', y='SalePrice', ylim=(0,800000));"
   ]
  },
  {
   "attachments": {},
   "cell_type": "markdown",
   "metadata": {
    "slideshow": {
     "slide_type": "subslide"
    }
   },
   "source": [
    "## What can we observe?\n",
    "***\n",
    "* The _SalePrice_ and _GrLivArea_ are in a linear relationship.\n",
    "\n",
    "* At the bottom right there are two points with extremely large GrLivArea that are of a low price. These values are huge oultliers.\n",
    "\n",
    "We decide, to plot a few more graphs of different features so that we can get an idea about their relationship."
   ]
  },
  {
   "cell_type": "code",
   "execution_count": 7,
   "metadata": {
    "slideshow": {
     "slide_type": "subslide"
    }
   },
   "outputs": [
    {
     "data": {
      "image/png": "[encoded data removed]",
      "text/plain": [
       "<Figure size 640x480 with 1 Axes>"
      ]
     },
     "metadata": {},
     "output_type": "display_data"
    }
   ],
   "source": [
    "#Scatter plot TotalBsmtSF vs SalePrice\n",
    "\n",
    "data = pd.concat([df['SalePrice'], df['TotalBsmtSF']], axis=1)\n",
    "data.plot.scatter(x='TotalBsmtSF', y='SalePrice', ylim=(0, 800000));"
   ]
  },
  {
   "attachments": {},
   "cell_type": "markdown",
   "metadata": {
    "slideshow": {
     "slide_type": "subslide"
    }
   },
   "source": [
    "It seems that **'TotalBsmtSF'** is also linearly dependent on **'SalePrice'**.\n",
    "\n",
    "At the bottom right of the plot we can notice that, there is one outlier which has a high Basement area at relatively quite cheap Sale Price.\n",
    "\n",
    "There are quite a few outliers in the data. We can consider this to be one of the reasons the Linear Regression model performed poorly."
   ]
  },
  {
   "attachments": {},
   "cell_type": "markdown",
   "metadata": {
    "slideshow": {
     "slide_type": "subslide"
    }
   },
   "source": [
    "We analyzed the numerical features in the data.\n",
    "\n",
    "Intuitively, we start thinking about the change in behaviour for the categorical features.\n",
    "\n",
    "So we decide to analyze the categorical features and start by plotting a boxplot for the OverallQual and SalePrice."
   ]
  },
  {
   "cell_type": "code",
   "execution_count": 13,
   "metadata": {
    "slideshow": {
     "slide_type": "subslide"
    }
   },
   "outputs": [
    {
     "data": {
      "image/png": "[encoded data removed]",
      "text/plain": [
       "<Figure size 800x600 with 1 Axes>"
      ]
     },
     "metadata": {},
     "output_type": "display_data"
    }
   ],
   "source": [
    "# Box plot of OverallQual vs SalePrice\n",
    "\n",
    "data = pd.concat([df['SalePrice'], df['OverallQual']], axis=1)\n",
    "f, ax = plt.subplots(figsize=(8, 6))\n",
    "fig = sns.boxplot(x='OverallQual', y=\"SalePrice\", data=data)\n",
    "fig.axis(ymin=0, ymax=800000);"
   ]
  },
  {
   "attachments": {},
   "cell_type": "markdown",
   "metadata": {
    "slideshow": {
     "slide_type": "subslide"
    }
   },
   "source": [
    "- Treating outliers is important because\n",
    "Outliers can skew and mislead the training process of machine learning algorithms resulting in longer training times, less accurate models and ultimately poorer results.\n",
    "Many machine learning algorithms are sensitive to the range and distribution of attribute values in the input data.\n",
    "\n",
    "- Let's see how to remove them"
   ]
  },
  {
   "attachments": {},
   "cell_type": "markdown",
   "metadata": {
    "slideshow": {
     "slide_type": "subslide"
    }
   },
   "source": [
    "<img src=\"../images/Technical-Stuff.png\" alt=\"Technical-Stuff\" style=\"width: 100px;float:left; margin-right:15px\"/>\n",
    "<br />\n",
    "\n",
    "##  Approach 1: Univariate Methods\n",
    "***\n",
    "\n",
    "We select a threshold value for the Numerical features and remove all the rows beyond that threshold value.\n",
    "\n",
    "In short :\n",
    "- Visualize the data using scatterplots, histograms and box and whisker plots and look for extreme values.\n",
    "- Assume a distribution (Gaussian) and look for values 1.5 times from the first or third quartile\n",
    "- Filter out outliers candidate from training dataset and assess the model’s performance.\n"
   ]
  },
  {
   "cell_type": "code",
   "execution_count": 14,
   "metadata": {
    "slideshow": {
     "slide_type": "subslide"
    }
   },
   "outputs": [
    {
     "data": {
      "image/png": "[encoded data removed]",
      "text/plain": [
       "<Figure size 640x480 with 1 Axes>"
      ]
     },
     "metadata": {},
     "output_type": "display_data"
    }
   ],
   "source": [
    "#Deleting outliers\n",
    "df = df.drop(df[(df['GrLivArea']>3000) & (df['GrLivArea']<6000)].index)\n",
    "\n",
    "#Check the graph again\n",
    "fig, ax = plt.subplots()\n",
    "ax.scatter(df['GrLivArea'], df['SalePrice'])\n",
    "plt.ylabel('SalePrice', fontsize=13)\n",
    "plt.xlabel('GrLivArea', fontsize=13)\n",
    "plt.show()"
   ]
  },
  {
   "attachments": {},
   "cell_type": "markdown",
   "metadata": {
    "slideshow": {
     "slide_type": "subslide"
    }
   },
   "source": [
    "## What changed?\n",
    "***\n",
    "Let's draw the original plot and the plot after removing the outliers."
   ]
  },
  {
   "cell_type": "code",
   "execution_count": 15,
   "metadata": {
    "slideshow": {
     "slide_type": "subslide"
    }
   },
   "outputs": [
    {
     "data": {
      "image/png": "[encoded data removed]",
      "text/plain": [
       "<Figure size 1000x700 with 2 Axes>"
      ]
     },
     "metadata": {},
     "output_type": "display_data"
    }
   ],
   "source": [
    "f, (ax1, ax2) = plt.subplots(1, 2, sharex='col', sharey='row', figsize=(10, 7))\n",
    "\n",
    "data = pd.read_csv('./train.csv',index_col=0)\n",
    "ax1.scatter(data['GrLivArea'], data['SalePrice']);\n",
    "ax1.set_ylabel('SalePrice', fontsize=13)\n",
    "ax1.set_xlabel('GrLivArea', fontsize=13)\n",
    "\n",
    "\n",
    "ax2.scatter(df['GrLivArea'], df['SalePrice'])\n",
    "ax2.set_ylabel('SalePrice', fontsize=13)\n",
    "ax2.set_xlabel('GrLivArea', fontsize=13)\n",
    "\n",
    "plt.show()"
   ]
  },
  {
   "attachments": {},
   "cell_type": "markdown",
   "metadata": {
    "slideshow": {
     "slide_type": "subslide"
    }
   },
   "source": [
    "As, we can easily note from the above plots, that the outliers have been removed."
   ]
  },
  {
   "attachments": {},
   "cell_type": "markdown",
   "metadata": {
    "slideshow": {
     "slide_type": "subslide"
    }
   },
   "source": [
    "A few other approaches, that we could have tried to remove the outliers are : \n",
    "\n",
    "\n",
    "<img src=\"../images/Technical-Stuff.png\" alt=\"Technical-Stuff\" style=\"width: 100px;float:left; margin-right:15px\"/>\n",
    "<br />\n",
    "\n",
    "#### Approach 2: Multivariate Methods\n",
    "\n",
    "- Use clustering methods to identify the natural clusters in the data, identify the points which are far away from the cluster centroids\n",
    "- Use dimensionality reduction techniques\n",
    "\n",
    "**Note: ** We will study about these techniques in _Unsupervised Learning_."
   ]
  },
  {
   "attachments": {},
   "cell_type": "markdown",
   "metadata": {
    "slideshow": {
     "slide_type": "subslide"
    }
   },
   "source": [
    "\n",
    "<img src=\"../images/Technical-Stuff.png\" alt=\"Technical-Stuff\" style=\"width: 100px;float:left; margin-right:15px\"/>\n",
    "<br />\n",
    "\n",
    "#### Approach 3: Algorithmic Methods\n",
    "\n",
    "- Ensemble methods like random forests and gradient boosting provide relatively robust results for data with outliers.\n",
    "\n",
    "**Note:** We will study about these techniques in _Unsupervised Learning_."
   ]
  },
  {
   "attachments": {},
   "cell_type": "markdown",
   "metadata": {
    "slideshow": {
     "slide_type": "slide"
    }
   },
   "source": [
    "<img src=\"../images/Concept-Alert.png\" alt=\"Concept-Alert\" style=\"width: 100px;float:left; margin-right:15px\"/>\n",
    "<br />\n",
    "\n",
    "## Handling Missing Values\n",
    "***"
   ]
  },
  {
   "attachments": {},
   "cell_type": "markdown",
   "metadata": {
    "slideshow": {
     "slide_type": "subslide"
    }
   },
   "source": [
    "Now the outlliers have been removed.\n",
    "\n",
    "But by casually skimming through the data we realise that a lot of the data had missing values.\n",
    "\n",
    "Intuitively, we decide to check out few entries in the data, which had most values as null.\n",
    "\n",
    "For each house entry, we observed the number of features which were missing and arranged them in an ascending order."
   ]
  },
  {
   "cell_type": "code",
   "execution_count": 19,
   "metadata": {
    "slideshow": {
     "slide_type": "subslide"
    }
   },
   "outputs": [
    {
     "name": "stdout",
     "output_type": "stream",
     "text": [
      "Id\n",
      "534     15\n",
      "1219    15\n",
      "40      15\n",
      "1012    15\n",
      "706     14\n",
      "        ..\n",
      "440      2\n",
      "1084     2\n",
      "767      2\n",
      "1329     1\n",
      "1387     1\n",
      "Length: 1442, dtype: int64\n",
      "Id\n",
      "534     0.1875\n",
      "1219    0.1875\n",
      "40      0.1875\n",
      "1012    0.1875\n",
      "706     0.1750\n",
      "         ...  \n",
      "440     0.0250\n",
      "1084    0.0250\n",
      "767     0.0250\n",
      "1329    0.0125\n",
      "1387    0.0125\n",
      "Length: 1442, dtype: float64\n"
     ]
    },
    {
     "data": {
      "text/html": [
       "<div>\n",
       "<style scoped>\n",
       "    .dataframe tbody tr th:only-of-type {\n",
       "        vertical-align: middle;\n",
       "    }\n",
       "\n",
       "    .dataframe tbody tr th {\n",
       "        vertical-align: top;\n",
       "    }\n",
       "\n",
       "    .dataframe thead th {\n",
       "        text-align: right;\n",
       "    }\n",
       "</style>\n",
       "<table border=\"1\" class=\"dataframe\">\n",
       "  <thead>\n",
       "    <tr style=\"text-align: right;\">\n",
       "      <th></th>\n",
       "      <th>Total_missing_values_per_row</th>\n",
       "      <th>Percent</th>\n",
       "    </tr>\n",
       "    <tr>\n",
       "      <th>Id</th>\n",
       "      <th></th>\n",
       "      <th></th>\n",
       "    </tr>\n",
       "  </thead>\n",
       "  <tbody>\n",
       "    <tr>\n",
       "      <th>534</th>\n",
       "      <td>15</td>\n",
       "      <td>0.1875</td>\n",
       "    </tr>\n",
       "    <tr>\n",
       "      <th>1219</th>\n",
       "      <td>15</td>\n",
       "      <td>0.1875</td>\n",
       "    </tr>\n",
       "    <tr>\n",
       "      <th>40</th>\n",
       "      <td>15</td>\n",
       "      <td>0.1875</td>\n",
       "    </tr>\n",
       "    <tr>\n",
       "      <th>1012</th>\n",
       "      <td>15</td>\n",
       "      <td>0.1875</td>\n",
       "    </tr>\n",
       "    <tr>\n",
       "      <th>706</th>\n",
       "      <td>14</td>\n",
       "      <td>0.1750</td>\n",
       "    </tr>\n",
       "    <tr>\n",
       "      <th>521</th>\n",
       "      <td>14</td>\n",
       "      <td>0.1750</td>\n",
       "    </tr>\n",
       "    <tr>\n",
       "      <th>1180</th>\n",
       "      <td>14</td>\n",
       "      <td>0.1750</td>\n",
       "    </tr>\n",
       "    <tr>\n",
       "      <th>1322</th>\n",
       "      <td>11</td>\n",
       "      <td>0.1375</td>\n",
       "    </tr>\n",
       "    <tr>\n",
       "      <th>1144</th>\n",
       "      <td>11</td>\n",
       "      <td>0.1375</td>\n",
       "    </tr>\n",
       "    <tr>\n",
       "      <th>343</th>\n",
       "      <td>11</td>\n",
       "      <td>0.1375</td>\n",
       "    </tr>\n",
       "    <tr>\n",
       "      <th>288</th>\n",
       "      <td>11</td>\n",
       "      <td>0.1375</td>\n",
       "    </tr>\n",
       "    <tr>\n",
       "      <th>1031</th>\n",
       "      <td>11</td>\n",
       "      <td>0.1375</td>\n",
       "    </tr>\n",
       "    <tr>\n",
       "      <th>376</th>\n",
       "      <td>11</td>\n",
       "      <td>0.1375</td>\n",
       "    </tr>\n",
       "    <tr>\n",
       "      <th>1036</th>\n",
       "      <td>11</td>\n",
       "      <td>0.1375</td>\n",
       "    </tr>\n",
       "    <tr>\n",
       "      <th>149</th>\n",
       "      <td>10</td>\n",
       "      <td>0.1250</td>\n",
       "    </tr>\n",
       "    <tr>\n",
       "      <th>614</th>\n",
       "      <td>10</td>\n",
       "      <td>0.1250</td>\n",
       "    </tr>\n",
       "    <tr>\n",
       "      <th>985</th>\n",
       "      <td>10</td>\n",
       "      <td>0.1250</td>\n",
       "    </tr>\n",
       "    <tr>\n",
       "      <th>166</th>\n",
       "      <td>10</td>\n",
       "      <td>0.1250</td>\n",
       "    </tr>\n",
       "    <tr>\n",
       "      <th>79</th>\n",
       "      <td>10</td>\n",
       "      <td>0.1250</td>\n",
       "    </tr>\n",
       "    <tr>\n",
       "      <th>750</th>\n",
       "      <td>10</td>\n",
       "      <td>0.1250</td>\n",
       "    </tr>\n",
       "  </tbody>\n",
       "</table>\n",
       "</div>"
      ],
      "text/plain": [
       "      Total_missing_values_per_row  Percent\n",
       "Id                                         \n",
       "534                             15   0.1875\n",
       "1219                            15   0.1875\n",
       "40                              15   0.1875\n",
       "1012                            15   0.1875\n",
       "706                             14   0.1750\n",
       "521                             14   0.1750\n",
       "1180                            14   0.1750\n",
       "1322                            11   0.1375\n",
       "1144                            11   0.1375\n",
       "343                             11   0.1375\n",
       "288                             11   0.1375\n",
       "1031                            11   0.1375\n",
       "376                             11   0.1375\n",
       "1036                            11   0.1375\n",
       "149                             10   0.1250\n",
       "614                             10   0.1250\n",
       "985                             10   0.1250\n",
       "166                             10   0.1250\n",
       "79                              10   0.1250\n",
       "750                             10   0.1250"
      ]
     },
     "execution_count": 19,
     "metadata": {},
     "output_type": "execute_result"
    }
   ],
   "source": [
    "# missing data\n",
    "total = df.isnull().sum(axis=1).sort_values(ascending=False) #check for is num om the axis 1 while the sort values is not needed\n",
    "print(total)\n",
    "percent = (df.isnull().sum(axis=1)/df.isnull().count(axis=1)).sort_values(ascending=False)\n",
    "print(percent)\n",
    "missing_data = pd.concat([total, percent], axis=1, keys=['Total_missing_values_per_row', 'Percent'])\n",
    "missing_data.head(20)"
   ]
  },
  {
   "attachments": {},
   "cell_type": "markdown",
   "metadata": {
    "slideshow": {
     "slide_type": "subslide"
    }
   },
   "source": [
    "The house entry number 40 had values of 15 features missing. So, did the houses number 1219, 1012, 534 and so on.\n",
    "As you can see there is a lot of missing data."
   ]
  },
  {
   "attachments": {},
   "cell_type": "markdown",
   "metadata": {
    "slideshow": {
     "slide_type": "subslide"
    }
   },
   "source": [
    "Data can have missing values. It's very normal to have some missing values.\n",
    "\n",
    "**Reasons for Missing Values**\n",
    "- These are values for attributes where a measurement could not be taken or is corrupt for some reason.\n",
    "- Missing values that depends on unobserved predictors"
   ]
  },
  {
   "attachments": {},
   "cell_type": "markdown",
   "metadata": {
    "slideshow": {
     "slide_type": "subslide"
    }
   },
   "source": [
    "**Why Missing Value Treatment?**\n",
    "- Missing data in the training data set can reduce the power / fit of a model.\n",
    "- Missing values can lead to a biased model because we have not analyzed the behavior and relationship with other variables correctly\n",
    "- This is useful because some algorithms are unable to work with or exploit missing data.\n",
    "\n",
    "Therefore, it is important to identify and mark this missing data. Once marked, replacement values can be prepared."
   ]
  },
  {
   "attachments": {},
   "cell_type": "markdown",
   "metadata": {
    "slideshow": {
     "slide_type": "subslide"
    }
   },
   "source": [
    "<img src=\"../images/Technical-Stuff.png\" alt=\"Technical-Stuff\" style=\"width: 100px;float:left; margin-right:15px\"/>\n",
    "<br />\n",
    "\n",
    "## Approach 1: Remove records (rows) that contain a missing value\n",
    "***\n",
    "We have so many houses with missing features.\n",
    "One simple thought we can have is to drop all the rows that have any missing value.\n",
    "So, let's drop all those houses which have any feature as 0.\n",
    "If all the features, for a house were available, only then would it be retained. "
   ]
  },
  {
   "cell_type": "code",
   "execution_count": 21,
   "metadata": {
    "slideshow": {
     "slide_type": "subslide"
    }
   },
   "outputs": [
    {
     "data": {
      "text/plain": [
       "(0, 80)"
      ]
     },
     "execution_count": 21,
     "metadata": {},
     "output_type": "execute_result"
    }
   ],
   "source": [
    "df_copy = df.copy().dropna(how='any')\n",
    "df_copy.shape"
   ]
  },
  {
   "attachments": {},
   "cell_type": "markdown",
   "metadata": {
    "slideshow": {
     "slide_type": "subslide"
    }
   },
   "source": [
    "Unfortunately, none of the observations had values for all the features i.e. non-empty rows\n",
    "we would surely lose out all our data in such this case.\n",
    "\n",
    "Hence we cannot remove houses (rows) that contain missing value as it will lead to loss of significant information because the missing value is spread all over dataset. \n",
    "\n",
    "In a nutshell :\n",
    "- This approach would work fine if the amount of missing values is very small (up to ~2% of entire data)\n",
    "\n",
    "- But with large amount of scattered missing values, we would lose out on some valuable information.\n"
   ]
  },
  {
   "attachments": {},
   "cell_type": "markdown",
   "metadata": {
    "slideshow": {
     "slide_type": "subslide"
    }
   },
   "source": [
    "**Note:**\n",
    "\n",
    "A slightly better approach would be to drop only those rows, which had all the values as null.\n",
    "This would surely work better than the previous approach.\n",
    "\n",
    "Let's check the number of houses, with at least some data. "
   ]
  },
  {
   "cell_type": "code",
   "execution_count": 22,
   "metadata": {
    "slideshow": {
     "slide_type": "subslide"
    }
   },
   "outputs": [
    {
     "data": {
      "text/plain": [
       "(1442, 80)"
      ]
     },
     "execution_count": 22,
     "metadata": {},
     "output_type": "execute_result"
    }
   ],
   "source": [
    "df_copy = df.copy().dropna(how='all')\n",
    "df.shape"
   ]
  },
  {
   "attachments": {},
   "cell_type": "markdown",
   "metadata": {
    "slideshow": {
     "slide_type": "subslide"
    }
   },
   "source": [
    "<img src=\"../images/Technical-Stuff.png\" alt=\"Technical-Stuff\" style=\"width: 100px;float:left; margin-right:15px\"/>\n",
    "<br />\n",
    "\n",
    "##  Approach 2: Remove features (columns) that contain missing values.\n",
    "***\n",
    "We can explore the features rather than the individual houses.\n",
    "\n",
    "For each feature(column) in the data, we count the number of houses(rows) with null values."
   ]
  },
  {
   "cell_type": "code",
   "execution_count": null,
   "metadata": {
    "slideshow": {
     "slide_type": "subslide"
    }
   },
   "outputs": [
    {
     "data": {
      "text/html": [
       "<div>\n",
       "<style scoped>\n",
       "    .dataframe tbody tr th:only-of-type {\n",
       "        vertical-align: middle;\n",
       "    }\n",
       "\n",
       "    .dataframe tbody tr th {\n",
       "        vertical-align: top;\n",
       "    }\n",
       "\n",
       "    .dataframe thead th {\n",
       "        text-align: right;\n",
       "    }\n",
       "</style>\n",
       "<table border=\"1\" class=\"dataframe\">\n",
       "  <thead>\n",
       "    <tr style=\"text-align: right;\">\n",
       "      <th></th>\n",
       "      <th>Total</th>\n",
       "      <th>Percent</th>\n",
       "    </tr>\n",
       "  </thead>\n",
       "  <tbody>\n",
       "    <tr>\n",
       "      <th>PoolQC</th>\n",
       "      <td>1438</td>\n",
       "      <td>99.722607</td>\n",
       "    </tr>\n",
       "    <tr>\n",
       "      <th>MiscFeature</th>\n",
       "      <td>1388</td>\n",
       "      <td>96.255201</td>\n",
       "    </tr>\n",
       "    <tr>\n",
       "      <th>Alley</th>\n",
       "      <td>1352</td>\n",
       "      <td>93.758669</td>\n",
       "    </tr>\n",
       "    <tr>\n",
       "      <th>Fence</th>\n",
       "      <td>1166</td>\n",
       "      <td>80.859917</td>\n",
       "    </tr>\n",
       "    <tr>\n",
       "      <th>FireplaceQu</th>\n",
       "      <td>689</td>\n",
       "      <td>47.780860</td>\n",
       "    </tr>\n",
       "    <tr>\n",
       "      <th>LotFrontage</th>\n",
       "      <td>257</td>\n",
       "      <td>17.822469</td>\n",
       "    </tr>\n",
       "    <tr>\n",
       "      <th>GarageType</th>\n",
       "      <td>79</td>\n",
       "      <td>5.478502</td>\n",
       "    </tr>\n",
       "    <tr>\n",
       "      <th>GarageCond</th>\n",
       "      <td>79</td>\n",
       "      <td>5.478502</td>\n",
       "    </tr>\n",
       "    <tr>\n",
       "      <th>GarageFinish</th>\n",
       "      <td>79</td>\n",
       "      <td>5.478502</td>\n",
       "    </tr>\n",
       "    <tr>\n",
       "      <th>GarageQual</th>\n",
       "      <td>79</td>\n",
       "      <td>5.478502</td>\n",
       "    </tr>\n",
       "    <tr>\n",
       "      <th>GarageYrBlt</th>\n",
       "      <td>79</td>\n",
       "      <td>5.478502</td>\n",
       "    </tr>\n",
       "    <tr>\n",
       "      <th>BsmtFinType2</th>\n",
       "      <td>38</td>\n",
       "      <td>2.635229</td>\n",
       "    </tr>\n",
       "    <tr>\n",
       "      <th>BsmtExposure</th>\n",
       "      <td>38</td>\n",
       "      <td>2.635229</td>\n",
       "    </tr>\n",
       "    <tr>\n",
       "      <th>BsmtQual</th>\n",
       "      <td>37</td>\n",
       "      <td>2.565881</td>\n",
       "    </tr>\n",
       "    <tr>\n",
       "      <th>BsmtCond</th>\n",
       "      <td>37</td>\n",
       "      <td>2.565881</td>\n",
       "    </tr>\n",
       "    <tr>\n",
       "      <th>BsmtFinType1</th>\n",
       "      <td>37</td>\n",
       "      <td>2.565881</td>\n",
       "    </tr>\n",
       "    <tr>\n",
       "      <th>MasVnrArea</th>\n",
       "      <td>8</td>\n",
       "      <td>0.554785</td>\n",
       "    </tr>\n",
       "    <tr>\n",
       "      <th>MasVnrType</th>\n",
       "      <td>8</td>\n",
       "      <td>0.554785</td>\n",
       "    </tr>\n",
       "    <tr>\n",
       "      <th>Electrical</th>\n",
       "      <td>1</td>\n",
       "      <td>0.069348</td>\n",
       "    </tr>\n",
       "    <tr>\n",
       "      <th>RoofMatl</th>\n",
       "      <td>0</td>\n",
       "      <td>0.000000</td>\n",
       "    </tr>\n",
       "  </tbody>\n",
       "</table>\n",
       "</div>"
      ],
      "text/plain": [
       "              Total    Percent\n",
       "PoolQC         1438  99.722607\n",
       "MiscFeature    1388  96.255201\n",
       "Alley          1352  93.758669\n",
       "Fence          1166  80.859917\n",
       "FireplaceQu     689  47.780860\n",
       "LotFrontage     257  17.822469\n",
       "GarageType       79   5.478502\n",
       "GarageCond       79   5.478502\n",
       "GarageFinish     79   5.478502\n",
       "GarageQual       79   5.478502\n",
       "GarageYrBlt      79   5.478502\n",
       "BsmtFinType2     38   2.635229\n",
       "BsmtExposure     38   2.635229\n",
       "BsmtQual         37   2.565881\n",
       "BsmtCond         37   2.565881\n",
       "BsmtFinType1     37   2.565881\n",
       "MasVnrArea        8   0.554785\n",
       "MasVnrType        8   0.554785\n",
       "Electrical        1   0.069348\n",
       "RoofMatl          0   0.000000"
      ]
     },
     "execution_count": 56,
     "metadata": {},
     "output_type": "execute_result"
    }
   ],
   "source": [
    "#missing data observing in columns\n",
    "total = df.isnull().sum(axis=0).sort_values(ascending=False)\n",
    "percent = ((df.isnull().sum(axis=0)/df.isnull().count(axis=0))*100).sort_values(ascending=False)\n",
    "\n",
    "# count the number of null values in the column and their perecentage of the total data\n",
    "missing_data_columns = pd.concat([total, percent], axis=1, keys=['Total', 'Percent'])\n",
    "missing_data_columns.head(20)"
   ]
  },
  {
   "attachments": {},
   "cell_type": "markdown",
   "metadata": {
    "slideshow": {
     "slide_type": "subslide"
    }
   },
   "source": [
    "We observe from the above information that features such as **PoolQC, MiscFeature, Alley, Fence** are having most of the values labeled as missing. Hence, they don't seem to be very important and will not have a significant effect.\n",
    "\n",
    "We can surely drop those columns.\n",
    "So, let's drop these columns with high missing values & check the remaining columns. "
   ]
  },
  {
   "cell_type": "code",
   "execution_count": null,
   "metadata": {
    "scrolled": true,
    "slideshow": {
     "slide_type": "subslide"
    }
   },
   "outputs": [
    {
     "data": {
      "text/plain": [
       "['MSSubClass',\n",
       " 'MSZoning',\n",
       " 'LotFrontage',\n",
       " 'LotArea',\n",
       " 'Street',\n",
       " 'LotShape',\n",
       " 'LandContour',\n",
       " 'Utilities',\n",
       " 'LotConfig',\n",
       " 'LandSlope',\n",
       " 'Neighborhood',\n",
       " 'Condition1',\n",
       " 'Condition2',\n",
       " 'BldgType',\n",
       " 'HouseStyle',\n",
       " 'OverallQual',\n",
       " 'OverallCond',\n",
       " 'YearBuilt',\n",
       " 'YearRemodAdd',\n",
       " 'RoofStyle']"
      ]
     },
     "execution_count": 57,
     "metadata": {},
     "output_type": "execute_result"
    }
   ],
   "source": [
    "# droping columns containing high missing values \n",
    "df1=df.copy()\n",
    "df1.drop([\"PoolQC\", \"MiscFeature\",\"Alley\",\"Fence\"], axis = 1, inplace = True)\n",
    "\n",
    "# display the columns left after droping the above features\n",
    "list(df1.columns.values)[:20]"
   ]
  },
  {
   "attachments": {},
   "cell_type": "markdown",
   "metadata": {
    "slideshow": {
     "slide_type": "subslide"
    }
   },
   "source": [
    "<img src=\"../images/Technical-Stuff.png\" alt=\"Technical-Stuff\" style=\"width: 100px;float:left; margin-right:15px\"/>\n",
    "<br />\n",
    "\n",
    "##  Approach 3: Missing values Imputation\n",
    "***\n",
    "We dropped a few columns, however we observe that there still were other features with high number of missing values.\n",
    "\n",
    "The *FireplaceQu* column has around 700 missing values whereas *LotFrontage* has around 300 missing values.\n",
    "We are in a dilemma, whether to retain them or drop them?\n",
    "We tried dropping the columns but as seen earlier that would lead to loss of information, so we decide to retain the columns.\n",
    "Let's check out a few columns from the data."
   ]
  },
  {
   "cell_type": "code",
   "execution_count": null,
   "metadata": {
    "slideshow": {
     "slide_type": "subslide"
    }
   },
   "outputs": [
    {
     "name": "stdout",
     "output_type": "stream",
     "text": [
      "     PoolQC MiscFeature  GarageYrBlt  GarageArea  GarageCars\n",
      "Id                                                          \n",
      "1       NaN         NaN       2003.0         548           2\n",
      "2       NaN         NaN       1976.0         460           2\n",
      "3       NaN         NaN       2001.0         608           2\n",
      "4       NaN         NaN       1998.0         642           3\n",
      "5       NaN         NaN       2000.0         836           3\n",
      "6       NaN        Shed       1993.0         480           2\n",
      "7       NaN         NaN       2004.0         636           2\n",
      "8       NaN        Shed       1973.0         484           2\n",
      "9       NaN         NaN       1931.0         468           2\n",
      "10      NaN         NaN       1939.0         205           1\n",
      "11      NaN         NaN       1965.0         384           1\n",
      "12      NaN         NaN       2005.0         736           3\n",
      "13      NaN         NaN       1962.0         352           1\n",
      "14      NaN         NaN       2006.0         840           3\n",
      "15      NaN         NaN       1960.0         352           1\n",
      "16      NaN         NaN       1991.0         576           2\n",
      "17      NaN        Shed       1970.0         480           2\n",
      "18      NaN        Shed       1967.0         516           2\n",
      "19      NaN         NaN       2004.0         576           2\n",
      "20      NaN         NaN       1958.0         294           1\n",
      "21      NaN         NaN       2005.0         853           3\n",
      "22      NaN         NaN       1930.0         280           1\n",
      "23      NaN         NaN       2002.0         534           2\n",
      "24      NaN         NaN       1976.0         572           2\n",
      "25      NaN         NaN       1968.0         270           1\n",
      "26      NaN         NaN       2007.0         890           3\n",
      "27      NaN         NaN       2005.0         576           2\n",
      "28      NaN         NaN       2008.0         772           3\n",
      "29      NaN         NaN       1957.0         319           1\n",
      "30      NaN         NaN       1920.0         240           1\n",
      "...     ...         ...          ...         ...         ...\n",
      "1431    NaN         NaN       2005.0         372           2\n",
      "1432    NaN         NaN       1976.0         440           2\n",
      "1433    NaN         NaN       1928.0         216           1\n",
      "1434    NaN         NaN       2000.0         451           2\n",
      "1435    NaN         NaN       1977.0         484           2\n",
      "1436    NaN         NaN       1962.0         462           2\n",
      "1437    NaN         NaN       1974.0         528           2\n",
      "1438    NaN         NaN       2008.0         774           3\n",
      "1439    NaN         NaN       1957.0         923           2\n",
      "1440    NaN         NaN       1979.0         550           2\n",
      "1441    NaN         NaN       1993.0         672           2\n",
      "1442    NaN         NaN       2004.0         420           2\n",
      "1443    NaN         NaN       2008.0         812           3\n",
      "1444    NaN         NaN       1916.0         192           1\n",
      "1445    NaN         NaN       2004.0         626           2\n",
      "1446    NaN         NaN       1990.0         240           1\n",
      "1447    NaN         NaN       1962.0         312           1\n",
      "1448    NaN         NaN       1995.0         556           2\n",
      "1449    NaN         NaN       1950.0         384           1\n",
      "1450    NaN         NaN          NaN           0           0\n",
      "1451    NaN         NaN          NaN           0           0\n",
      "1452    NaN         NaN       2008.0         840           3\n",
      "1453    NaN         NaN       2005.0         525           2\n",
      "1454    NaN         NaN          NaN           0           0\n",
      "1455    NaN         NaN       2004.0         400           2\n",
      "1456    NaN         NaN       1999.0         460           2\n",
      "1457    NaN         NaN       1978.0         500           2\n",
      "1458    NaN        Shed       1941.0         252           1\n",
      "1459    NaN         NaN       1950.0         240           1\n",
      "1460    NaN         NaN       1965.0         276           1\n",
      "\n",
      "[1442 rows x 5 columns]\n"
     ]
    }
   ],
   "source": [
    "print(df[[\"PoolQC\",\"MiscFeature\",\"GarageYrBlt\",\"GarageArea\",\"GarageCars\"]])"
   ]
  },
  {
   "attachments": {},
   "cell_type": "markdown",
   "metadata": {
    "slideshow": {
     "slide_type": "subslide"
    }
   },
   "source": [
    "What we can do is, impute the missing values with a representative constant value that has meaning within the domain, such as 0 or None, distinct from all other values.\n",
    "\n",
    "We impute them by proceeding sequentially through features with missing values.\n",
    "\n",
    "- PoolQC : data description says NA means \"No Pool\". That makes sense, given the huge ratio of missing value (+99%) and majority of houses have no Pool at all in general.\n",
    "\n",
    "- MiscFeature : data description says NA means \"no misc feature\"\n",
    "- GarageYrBlt, GarageArea and GarageCars : Replacing missing data with 0 (Since No garage = no cars in such garage.)"
   ]
  },
  {
   "attachments": {},
   "cell_type": "markdown",
   "metadata": {
    "slideshow": {
     "slide_type": "subslide"
    }
   },
   "source": [
    "We consider 'NA',  'no misc features' and 'NaN' to be equivalent to null values and need to be imputed.\n",
    "\n",
    "Let's impute the missing values as per the following :\n",
    "- Categorical Features : None\n",
    "- Numerical Features : 0"
   ]
  },
  {
   "cell_type": "code",
   "execution_count": null,
   "metadata": {
    "slideshow": {
     "slide_type": "subslide"
    }
   },
   "outputs": [
    {
     "name": "stdout",
     "output_type": "stream",
     "text": [
      "     PoolQC MiscFeature  GarageYrBlt  GarageArea  GarageCars\n",
      "Id                                                          \n",
      "1      None        None       2003.0         548           2\n",
      "2      None        None       1976.0         460           2\n",
      "3      None        None       2001.0         608           2\n",
      "4      None        None       1998.0         642           3\n",
      "5      None        None       2000.0         836           3\n",
      "6      None        Shed       1993.0         480           2\n",
      "7      None        None       2004.0         636           2\n",
      "8      None        Shed       1973.0         484           2\n",
      "9      None        None       1931.0         468           2\n",
      "10     None        None       1939.0         205           1\n",
      "11     None        None       1965.0         384           1\n",
      "12     None        None       2005.0         736           3\n",
      "13     None        None       1962.0         352           1\n",
      "14     None        None       2006.0         840           3\n",
      "15     None        None       1960.0         352           1\n",
      "16     None        None       1991.0         576           2\n",
      "17     None        Shed       1970.0         480           2\n",
      "18     None        Shed       1967.0         516           2\n",
      "19     None        None       2004.0         576           2\n",
      "20     None        None       1958.0         294           1\n",
      "21     None        None       2005.0         853           3\n",
      "22     None        None       1930.0         280           1\n",
      "23     None        None       2002.0         534           2\n",
      "24     None        None       1976.0         572           2\n",
      "25     None        None       1968.0         270           1\n",
      "26     None        None       2007.0         890           3\n",
      "27     None        None       2005.0         576           2\n",
      "28     None        None       2008.0         772           3\n",
      "29     None        None       1957.0         319           1\n",
      "30     None        None       1920.0         240           1\n",
      "...     ...         ...          ...         ...         ...\n",
      "1431   None        None       2005.0         372           2\n",
      "1432   None        None       1976.0         440           2\n",
      "1433   None        None       1928.0         216           1\n",
      "1434   None        None       2000.0         451           2\n",
      "1435   None        None       1977.0         484           2\n",
      "1436   None        None       1962.0         462           2\n",
      "1437   None        None       1974.0         528           2\n",
      "1438   None        None       2008.0         774           3\n",
      "1439   None        None       1957.0         923           2\n",
      "1440   None        None       1979.0         550           2\n",
      "1441   None        None       1993.0         672           2\n",
      "1442   None        None       2004.0         420           2\n",
      "1443   None        None       2008.0         812           3\n",
      "1444   None        None       1916.0         192           1\n",
      "1445   None        None       2004.0         626           2\n",
      "1446   None        None       1990.0         240           1\n",
      "1447   None        None       1962.0         312           1\n",
      "1448   None        None       1995.0         556           2\n",
      "1449   None        None       1950.0         384           1\n",
      "1450   None        None          0.0           0           0\n",
      "1451   None        None          0.0           0           0\n",
      "1452   None        None       2008.0         840           3\n",
      "1453   None        None       2005.0         525           2\n",
      "1454   None        None          0.0           0           0\n",
      "1455   None        None       2004.0         400           2\n",
      "1456   None        None       1999.0         460           2\n",
      "1457   None        None       1978.0         500           2\n",
      "1458   None        Shed       1941.0         252           1\n",
      "1459   None        None       1950.0         240           1\n",
      "1460   None        None       1965.0         276           1\n",
      "\n",
      "[1442 rows x 5 columns]\n"
     ]
    }
   ],
   "source": [
    "df2=df.copy()\n",
    "df2[\"PoolQC\"] = df2[\"PoolQC\"].fillna(\"None\")\n",
    "df2[\"MiscFeature\"] = df2[\"MiscFeature\"].fillna(\"None\")\n",
    "\n",
    "for col in ('GarageYrBlt', 'GarageArea', 'GarageCars'):\n",
    "    df2[col] = df2[col].fillna(0)\n",
    "print(df2[[\"PoolQC\",\"MiscFeature\",\"GarageYrBlt\",\"GarageArea\",\"GarageCars\"]])"
   ]
  },
  {
   "attachments": {},
   "cell_type": "markdown",
   "metadata": {
    "slideshow": {
     "slide_type": "subslide"
    }
   },
   "source": [
    "<img src=\"../images/Technical-Stuff.png\" alt=\"Technical-Stuff\" style=\"width: 100px;float:left; margin-right:15px\"/>\n",
    "<br />\n",
    "\n",
    "## Approach 5: Impute missing values with a mean, median or mode value for the column.\n",
    "***\n",
    "Imputing values with a default value, is a good option.\n",
    "But, we can still perform better.\n",
    "\n",
    "We can impute the missing values with more relevant data rather than a default value.\n",
    "Let's apply this to some of the features.\n",
    "\n",
    "_Numerical Feature (LotFrontage) :_ \n",
    "- We replace the missing values for the LotFrontage column by the **mean** value of LotFrontage.\n",
    "\n",
    "_Categorical Feature (MSZoning) :_\n",
    "- However, for categorical feature one cannot calculate **mean** or **median**.\n",
    "- 'RL' is by far the most common value. So we fill in missing values with 'RL'."
   ]
  },
  {
   "cell_type": "code",
   "execution_count": null,
   "metadata": {
    "slideshow": {
     "slide_type": "subslide"
    }
   },
   "outputs": [
    {
     "name": "stdout",
     "output_type": "stream",
     "text": [
      "Id\n",
      "1        65.000000\n",
      "2        80.000000\n",
      "3        68.000000\n",
      "4        60.000000\n",
      "5        84.000000\n",
      "6        85.000000\n",
      "7        75.000000\n",
      "8        69.433755\n",
      "9        51.000000\n",
      "10       50.000000\n",
      "11       70.000000\n",
      "12       85.000000\n",
      "13       69.433755\n",
      "14       91.000000\n",
      "15       69.433755\n",
      "16       51.000000\n",
      "17       69.433755\n",
      "18       72.000000\n",
      "19       66.000000\n",
      "20       70.000000\n",
      "21      101.000000\n",
      "22       57.000000\n",
      "23       75.000000\n",
      "24       44.000000\n",
      "25       69.433755\n",
      "26      110.000000\n",
      "27       60.000000\n",
      "28       98.000000\n",
      "29       47.000000\n",
      "30       60.000000\n",
      "           ...    \n",
      "1431     60.000000\n",
      "1432     69.433755\n",
      "1433     60.000000\n",
      "1434     93.000000\n",
      "1435     80.000000\n",
      "1436     80.000000\n",
      "1437     60.000000\n",
      "1438     96.000000\n",
      "1439     90.000000\n",
      "1440     80.000000\n",
      "1441     79.000000\n",
      "1442     69.433755\n",
      "1443     85.000000\n",
      "1444     69.433755\n",
      "1445     63.000000\n",
      "1446     70.000000\n",
      "1447     69.433755\n",
      "1448     80.000000\n",
      "1449     70.000000\n",
      "1450     21.000000\n",
      "1451     60.000000\n",
      "1452     78.000000\n",
      "1453     35.000000\n",
      "1454     90.000000\n",
      "1455     62.000000\n",
      "1456     62.000000\n",
      "1457     85.000000\n",
      "1458     66.000000\n",
      "1459     68.000000\n",
      "1460     75.000000\n",
      "Name: LotFrontage, Length: 1442, dtype: float64\n",
      "Id\n",
      "1       RL\n",
      "2       RL\n",
      "3       RL\n",
      "4       RL\n",
      "5       RL\n",
      "6       RL\n",
      "7       RL\n",
      "8       RL\n",
      "9       RM\n",
      "10      RL\n",
      "11      RL\n",
      "12      RL\n",
      "13      RL\n",
      "14      RL\n",
      "15      RL\n",
      "16      RM\n",
      "17      RL\n",
      "18      RL\n",
      "19      RL\n",
      "20      RL\n",
      "21      RL\n",
      "22      RM\n",
      "23      RL\n",
      "24      RM\n",
      "25      RL\n",
      "26      RL\n",
      "27      RL\n",
      "28      RL\n",
      "29      RL\n",
      "30      RM\n",
      "        ..\n",
      "1431    RL\n",
      "1432    RL\n",
      "1433    RL\n",
      "1434    RL\n",
      "1435    RL\n",
      "1436    RL\n",
      "1437    RL\n",
      "1438    RL\n",
      "1439    RM\n",
      "1440    RL\n",
      "1441    RL\n",
      "1442    RM\n",
      "1443    FV\n",
      "1444    RL\n",
      "1445    RL\n",
      "1446    RL\n",
      "1447    RL\n",
      "1448    RL\n",
      "1449    RL\n",
      "1450    RM\n",
      "1451    RL\n",
      "1452    RL\n",
      "1453    RM\n",
      "1454    RL\n",
      "1455    FV\n",
      "1456    RL\n",
      "1457    RL\n",
      "1458    RL\n",
      "1459    RL\n",
      "1460    RL\n",
      "Name: MSZoning, Length: 1442, dtype: object\n"
     ]
    },
    {
     "name": "stderr",
     "output_type": "stream",
     "text": [
      "/home/pranav/anaconda3/lib/python3.6/site-packages/sklearn/utils/deprecation.py:58: DeprecationWarning: Class Imputer is deprecated; Imputer was deprecated in version 0.20 and will be removed in 0.22. Import impute.SimpleImputer from sklearn instead.\n",
      "  warnings.warn(msg, category=DeprecationWarning)\n"
     ]
    }
   ],
   "source": [
    "# Imputation Using Imputer\n",
    "#Mean value imputation for 'LotFrontage' column (numerical feature).\n",
    "imp_mean = Imputer(missing_values = 'NaN', strategy='mean')\n",
    "imp_mean.fit(df2[['LotFrontage']])\n",
    "df2['LotFrontage'] = imp_mean.transform(df[['LotFrontage']])\n",
    "print(df2[\"LotFrontage\"])\n",
    "\n",
    "\n",
    "#Mode value imputation for the 'MSZoning' column (categorical feature).\n",
    "df2['MSZoning'] = df2['MSZoning'].fillna(df2['MSZoning'].mode()[0])\n",
    "print(df2['MSZoning'])"
   ]
  },
  {
   "attachments": {},
   "cell_type": "markdown",
   "metadata": {
    "slideshow": {
     "slide_type": "subslide"
    }
   },
   "source": [
    "**Other Methods to Handle Missing Values : **\n",
    "\n",
    "#### Approach 6: Impute missing values with a value estimated by another predictive model\n",
    "\n",
    "We will study these techniques while we learn _Unsupervised Learning_\n",
    "\n",
    "#### Approach 7 : Use algorithms that Support Missing Values\n",
    "\n",
    "Not all algorithms fail when there is missing data.\n",
    "\n",
    "There are certain algorithms that work well even with missing values.\n",
    "For such algorithms, we need not worry about the missing values.\n",
    "\n",
    "Few such algorithms are : \n",
    "- Random Forest\n",
    "- Classification and Regression Trees\n",
    "- KNN"
   ]
  },
  {
   "attachments": {},
   "cell_type": "markdown",
   "metadata": {
    "slideshow": {
     "slide_type": "slide"
    }
   },
   "source": [
    "<img src=\"../images/Concept-Alert.png\" alt=\"Concept-Alert\" style=\"width: 100px;float:left; margin-right:15px\"/>\n",
    "<br />\n",
    "\n",
    "# Handling Skewness\n",
    "***"
   ]
  },
  {
   "attachments": {},
   "cell_type": "markdown",
   "metadata": {
    "slideshow": {
     "slide_type": "subslide"
    }
   },
   "source": [
    "\n",
    "\n",
    "We know that the Linear Regression has following assumptions:\n",
    "- Linear relationship\n",
    "- **Multivariate normality**\n",
    "\n",
    "**Multivariate normality means that regression requires all its variables to be normal. \n",
    "By having skewed data one might violate the assumption of normality.**\n",
    "\n",
    "So, we are far from applying a Linear Regression yet and need to check the skewness of the data.\n",
    "Let's explore a bit more about Skewness."
   ]
  },
  {
   "attachments": {},
   "cell_type": "markdown",
   "metadata": {
    "slideshow": {
     "slide_type": "subslide"
    }
   },
   "source": [
    "**What is Skewness?**\n",
    "\n",
    "- Skewness is a measure of asymmetry of distribution.\n",
    "- Skewness is a measure of symmetry, or more precisely, the lack of symmetry. \n",
    "\n",
    "**Why handle Skewness?**\n",
    "- Many model building techniques have the assumption that predictor values are distributed normally and have a symmetrical shape. Hence, it is sometimes paramount to deal with skewness.\n",
    "- Symmetric distribution is preferred over skewed distribution as it is easier to interpret and generate inferences. \n",
    "\n",
    "Let's look at some plots.\n",
    "Here, we check the skewness of `GrLivArea` and plot it. "
   ]
  },
  {
   "cell_type": "code",
   "execution_count": 23,
   "metadata": {
    "slideshow": {
     "slide_type": "subslide"
    }
   },
   "outputs": [
    {
     "name": "stderr",
     "output_type": "stream",
     "text": [
      "/var/folders/4w/crldx3nn537gxgqp38n9lgv40000gn/T/ipykernel_1874/3791885151.py:2: UserWarning: \n",
      "\n",
      "`distplot` is a deprecated function and will be removed in seaborn v0.14.0.\n",
      "\n",
      "Please adapt your code to use either `displot` (a figure-level function with\n",
      "similar flexibility) or `histplot` (an axes-level function for histograms).\n",
      "\n",
      "For a guide to updating your code to use the new functions, please see\n",
      "https://gist.github.com/mwaskom/de44147ed2974457ad6372750bbe5751\n",
      "\n",
      "  sns.distplot(df['GrLivArea'], fit=norm);\n"
     ]
    },
    {
     "data": {
      "image/png": "[encoded data removed]",
      "text/plain": [
       "<Figure size 640x480 with 1 Axes>"
      ]
     },
     "metadata": {},
     "output_type": "display_data"
    },
    {
     "data": {
      "image/png": "[encoded data removed]",
      "text/plain": [
       "<Figure size 640x480 with 1 Axes>"
      ]
     },
     "metadata": {},
     "output_type": "display_data"
    }
   ],
   "source": [
    "#histogram and normal probability plot\n",
    "sns.distplot(df['GrLivArea'], fit=norm);\n",
    "fig = plt.figure()\n",
    "res = stats.probplot(df['GrLivArea'], plot=plt)"
   ]
  },
  {
   "attachments": {},
   "cell_type": "markdown",
   "metadata": {
    "slideshow": {
     "slide_type": "subslide"
    }
   },
   "source": [
    "Now, lets numerically calculate the skewness for the _GrLivArea_ feature."
   ]
  },
  {
   "cell_type": "code",
   "execution_count": 24,
   "metadata": {
    "slideshow": {
     "slide_type": "subslide"
    }
   },
   "outputs": [
    {
     "name": "stdout",
     "output_type": "stream",
     "text": [
      "0.5639914400631191\n"
     ]
    }
   ],
   "source": [
    "skewed_grLiv = skew(df['GrLivArea'])\n",
    "print(skewed_grLiv)"
   ]
  },
  {
   "attachments": {},
   "cell_type": "markdown",
   "metadata": {
    "slideshow": {
     "slide_type": "subslide"
    }
   },
   "source": [
    "For normally distributed data, the skewness should be about 0. A skewness value > 0 means that there is more weight in the left tail of the distribution.\n",
    "\n",
    "As evident from the histogram plot, the *GrLivArea* is *Left skewed*.\n",
    "\n",
    "Hmm... let's try removing skewness from our data."
   ]
  },
  {
   "attachments": {},
   "cell_type": "markdown",
   "metadata": {
    "slideshow": {
     "slide_type": "subslide"
    }
   },
   "source": [
    "<img src=\"../images/Technical-Stuff.png\" alt=\"Technical-Stuff\" style=\"width: 100px;float:left; margin-right:15px\"/>\n",
    "<br />\n",
    "\n",
    "## Approach 1: Replacing the data with the log, square root, or inverse transformed data may help to remove the skewness.\n",
    "***"
   ]
  },
  {
   "attachments": {},
   "cell_type": "markdown",
   "metadata": {
    "slideshow": {
     "slide_type": "subslide"
    }
   },
   "source": [
    "Applying **Log Transformation** on the data would reduce the skewness.\n",
    "\n",
    "Let's see how to apply Log Transform to remove the skewness in the data and plot it.\n",
    "\n",
    "We chose the **GrLivArea** feature for which we have already calculated the skewness. "
   ]
  },
  {
   "cell_type": "code",
   "execution_count": 25,
   "metadata": {
    "slideshow": {
     "slide_type": "subslide"
    }
   },
   "outputs": [],
   "source": [
    "#data transformation using log transform\n",
    "df_trans=df.copy()\n",
    "df_trans['GrLivArea'] = np.log(df_trans['GrLivArea'])"
   ]
  },
  {
   "attachments": {},
   "cell_type": "markdown",
   "metadata": {
    "slideshow": {
     "slide_type": "subslide"
    }
   },
   "source": [
    "Plotting the transformed  _GrLivArea_ after using log transform."
   ]
  },
  {
   "cell_type": "code",
   "execution_count": 26,
   "metadata": {
    "slideshow": {
     "slide_type": "subslide"
    }
   },
   "outputs": [
    {
     "name": "stderr",
     "output_type": "stream",
     "text": [
      "/var/folders/4w/crldx3nn537gxgqp38n9lgv40000gn/T/ipykernel_1874/607139885.py:2: UserWarning: \n",
      "\n",
      "`distplot` is a deprecated function and will be removed in seaborn v0.14.0.\n",
      "\n",
      "Please adapt your code to use either `displot` (a figure-level function with\n",
      "similar flexibility) or `histplot` (an axes-level function for histograms).\n",
      "\n",
      "For a guide to updating your code to use the new functions, please see\n",
      "https://gist.github.com/mwaskom/de44147ed2974457ad6372750bbe5751\n",
      "\n",
      "  sns.distplot(df_trans['GrLivArea'], fit=norm)\n"
     ]
    },
    {
     "data": {
      "image/png": "[encoded data removed]",
      "text/plain": [
       "<Figure size 640x480 with 1 Axes>"
      ]
     },
     "metadata": {},
     "output_type": "display_data"
    },
    {
     "data": {
      "image/png": "[encoded data removed]",
      "text/plain": [
       "<Figure size 640x480 with 1 Axes>"
      ]
     },
     "metadata": {},
     "output_type": "display_data"
    }
   ],
   "source": [
    "#transformed histogram and normal probability plot\n",
    "sns.distplot(df_trans['GrLivArea'], fit=norm)\n",
    "fig = plt.figure()\n",
    "res = stats.probplot(df_trans['GrLivArea'], plot=plt)"
   ]
  },
  {
   "attachments": {},
   "cell_type": "markdown",
   "metadata": {
    "slideshow": {
     "slide_type": "subslide"
    }
   },
   "source": [
    "We can see that the plot is now much more symmetrical. It seems more like a bell curve now.\n",
    "\n",
    "Let's verify the same numerically."
   ]
  },
  {
   "cell_type": "code",
   "execution_count": 27,
   "metadata": {
    "slideshow": {
     "slide_type": "subslide"
    }
   },
   "outputs": [
    {
     "name": "stdout",
     "output_type": "stream",
     "text": [
      "-0.22566861223237755\n"
     ]
    }
   ],
   "source": [
    "skewness_grLiv = skew(df_trans['GrLivArea'])\n",
    "print(skewness_grLiv)"
   ]
  },
  {
   "attachments": {},
   "cell_type": "markdown",
   "metadata": {
    "slideshow": {
     "slide_type": "subslide"
    }
   },
   "source": [
    "Hmm... Log transformation did remove skewness in the original data.\n",
    "Quite evidently, the skewness value is now much more closer to 0."
   ]
  },
  {
   "attachments": {},
   "cell_type": "markdown",
   "metadata": {
    "slideshow": {
     "slide_type": "subslide"
    }
   },
   "source": [
    "We can try another method **\"Square Root Transformation\"** to remove skewness in the data.\n",
    "\n",
    "Let's see how to apply Square Root transformation"
   ]
  },
  {
   "cell_type": "code",
   "execution_count": 28,
   "metadata": {
    "slideshow": {
     "slide_type": "subslide"
    }
   },
   "outputs": [
    {
     "name": "stderr",
     "output_type": "stream",
     "text": [
      "/var/folders/4w/crldx3nn537gxgqp38n9lgv40000gn/T/ipykernel_1874/14020155.py:4: UserWarning: \n",
      "\n",
      "`distplot` is a deprecated function and will be removed in seaborn v0.14.0.\n",
      "\n",
      "Please adapt your code to use either `displot` (a figure-level function with\n",
      "similar flexibility) or `histplot` (an axes-level function for histograms).\n",
      "\n",
      "For a guide to updating your code to use the new functions, please see\n",
      "https://gist.github.com/mwaskom/de44147ed2974457ad6372750bbe5751\n",
      "\n",
      "  sns.distplot(df_trans['GrLivArea'], fit=norm)\n",
      "/var/folders/4w/crldx3nn537gxgqp38n9lgv40000gn/T/ipykernel_1874/14020155.py:6: UserWarning: Matplotlib is currently using module://matplotlib_inline.backend_inline, which is a non-GUI backend, so cannot show the figure.\n",
      "  fig.show()\n"
     ]
    },
    {
     "data": {
      "image/png": "[encoded data removed]",
      "text/plain": [
       "<Figure size 640x480 with 1 Axes>"
      ]
     },
     "metadata": {},
     "output_type": "display_data"
    },
    {
     "data": {
      "text/plain": [
       "<Figure size 640x480 with 0 Axes>"
      ]
     },
     "metadata": {},
     "output_type": "display_data"
    }
   ],
   "source": [
    "df_trans = df.copy()\n",
    "df_trans['GrLivArea'] = np.sqrt(df_trans['GrLivArea'])\n",
    "\n",
    "sns.distplot(df_trans['GrLivArea'], fit=norm)\n",
    "fig = plt.figure()\n",
    "fig.show()"
   ]
  },
  {
   "attachments": {},
   "cell_type": "markdown",
   "metadata": {
    "slideshow": {
     "slide_type": "subslide"
    }
   },
   "source": [
    "Similar to the log transform; even the square root transformation seems to reduce the skewness.\n",
    "\n",
    "Let's verify the same numerically."
   ]
  },
  {
   "cell_type": "code",
   "execution_count": 29,
   "metadata": {
    "slideshow": {
     "slide_type": "subslide"
    }
   },
   "outputs": [
    {
     "name": "stdout",
     "output_type": "stream",
     "text": [
      "0.1839657895640114\n"
     ]
    }
   ],
   "source": [
    "skewness_grLiv = skew(df_trans['GrLivArea'])\n",
    "print(skewness_grLiv)"
   ]
  },
  {
   "attachments": {},
   "cell_type": "markdown",
   "metadata": {
    "slideshow": {
     "slide_type": "slide"
    }
   },
   "source": [
    "<img src=\"./images/Concept-Alert.png\" alt=\"Concept-Alert\" style=\"width: 100px;float:left; margin-right:15px\"/>\n",
    "<br />\n",
    "\n",
    "## Feature Extraction\n",
    "***"
   ]
  },
  {
   "attachments": {},
   "cell_type": "markdown",
   "metadata": {
    "slideshow": {
     "slide_type": "subslide"
    }
   },
   "source": [
    "We are finally ready to apply the Linear Regression on the dataset.\n",
    "\n",
    "## But ....\n",
    "***\n",
    "Linear Regression assumes that all the data, is normally distributed\n",
    "\n",
    "How should we make the data have a normal distribution?\" \n",
    "\n",
    "Standardization of datasets is a common requirement for many machine learning estimators; they might behave badly if the individual features do not more or less look like standard normally distributed data: Gaussian with zero mean and unit variance."
   ]
  },
  {
   "attachments": {},
   "cell_type": "markdown",
   "metadata": {
    "slideshow": {
     "slide_type": "subslide"
    }
   },
   "source": [
    "### Standardization\n",
    "***\n",
    "- Standardization is recommended when regression models are being built.\n",
    "- Standardization of data is to have zero mean and unit variance.\n",
    "\n",
    "\n",
    "Standardization cannot be performed on Categorical data, so we need to separate Numerical Features and Categorical Features.\n",
    "\n",
    "So, we separate the original data into two categories : Numerical and Categorical"
   ]
  },
  {
   "cell_type": "code",
   "execution_count": 30,
   "metadata": {
    "slideshow": {
     "slide_type": "subslide"
    }
   },
   "outputs": [],
   "source": [
    "#Seperating the data into categorical and numerical data.\n",
    "numeric_feature = [a for a in range(len(df.dtypes)) if df.dtypes[a] in ['int64','float64']]\n",
    "numeric_data = df.iloc[:,numeric_feature]\n",
    "\n",
    "cat_name = df.columns.difference(df.columns[numeric_feature])\n",
    "cat_data = df.loc[:,cat_name]"
   ]
  },
  {
   "attachments": {},
   "cell_type": "markdown",
   "metadata": {
    "slideshow": {
     "slide_type": "subslide"
    }
   },
   "source": [
    "Let's check out some of the entries in Numerical Data & Categorical Data"
   ]
  },
  {
   "cell_type": "code",
   "execution_count": 31,
   "metadata": {
    "slideshow": {
     "slide_type": "subslide"
    }
   },
   "outputs": [
    {
     "data": {
      "text/html": [
       "<div>\n",
       "<style scoped>\n",
       "    .dataframe tbody tr th:only-of-type {\n",
       "        vertical-align: middle;\n",
       "    }\n",
       "\n",
       "    .dataframe tbody tr th {\n",
       "        vertical-align: top;\n",
       "    }\n",
       "\n",
       "    .dataframe thead th {\n",
       "        text-align: right;\n",
       "    }\n",
       "</style>\n",
       "<table border=\"1\" class=\"dataframe\">\n",
       "  <thead>\n",
       "    <tr style=\"text-align: right;\">\n",
       "      <th></th>\n",
       "      <th>MSSubClass</th>\n",
       "      <th>LotFrontage</th>\n",
       "      <th>LotArea</th>\n",
       "      <th>OverallQual</th>\n",
       "      <th>OverallCond</th>\n",
       "      <th>YearBuilt</th>\n",
       "      <th>YearRemodAdd</th>\n",
       "      <th>MasVnrArea</th>\n",
       "      <th>BsmtFinSF1</th>\n",
       "      <th>BsmtFinSF2</th>\n",
       "      <th>...</th>\n",
       "      <th>WoodDeckSF</th>\n",
       "      <th>OpenPorchSF</th>\n",
       "      <th>EnclosedPorch</th>\n",
       "      <th>3SsnPorch</th>\n",
       "      <th>ScreenPorch</th>\n",
       "      <th>PoolArea</th>\n",
       "      <th>MiscVal</th>\n",
       "      <th>MoSold</th>\n",
       "      <th>YrSold</th>\n",
       "      <th>SalePrice</th>\n",
       "    </tr>\n",
       "    <tr>\n",
       "      <th>Id</th>\n",
       "      <th></th>\n",
       "      <th></th>\n",
       "      <th></th>\n",
       "      <th></th>\n",
       "      <th></th>\n",
       "      <th></th>\n",
       "      <th></th>\n",
       "      <th></th>\n",
       "      <th></th>\n",
       "      <th></th>\n",
       "      <th></th>\n",
       "      <th></th>\n",
       "      <th></th>\n",
       "      <th></th>\n",
       "      <th></th>\n",
       "      <th></th>\n",
       "      <th></th>\n",
       "      <th></th>\n",
       "      <th></th>\n",
       "      <th></th>\n",
       "      <th></th>\n",
       "    </tr>\n",
       "  </thead>\n",
       "  <tbody>\n",
       "    <tr>\n",
       "      <th>1</th>\n",
       "      <td>60</td>\n",
       "      <td>65.0</td>\n",
       "      <td>8450</td>\n",
       "      <td>7</td>\n",
       "      <td>5</td>\n",
       "      <td>2003</td>\n",
       "      <td>2003</td>\n",
       "      <td>196.0</td>\n",
       "      <td>706</td>\n",
       "      <td>0</td>\n",
       "      <td>...</td>\n",
       "      <td>0</td>\n",
       "      <td>61</td>\n",
       "      <td>0</td>\n",
       "      <td>0</td>\n",
       "      <td>0</td>\n",
       "      <td>0</td>\n",
       "      <td>0</td>\n",
       "      <td>2</td>\n",
       "      <td>2008</td>\n",
       "      <td>208500</td>\n",
       "    </tr>\n",
       "    <tr>\n",
       "      <th>2</th>\n",
       "      <td>20</td>\n",
       "      <td>80.0</td>\n",
       "      <td>9600</td>\n",
       "      <td>6</td>\n",
       "      <td>8</td>\n",
       "      <td>1976</td>\n",
       "      <td>1976</td>\n",
       "      <td>0.0</td>\n",
       "      <td>978</td>\n",
       "      <td>0</td>\n",
       "      <td>...</td>\n",
       "      <td>298</td>\n",
       "      <td>0</td>\n",
       "      <td>0</td>\n",
       "      <td>0</td>\n",
       "      <td>0</td>\n",
       "      <td>0</td>\n",
       "      <td>0</td>\n",
       "      <td>5</td>\n",
       "      <td>2007</td>\n",
       "      <td>181500</td>\n",
       "    </tr>\n",
       "    <tr>\n",
       "      <th>3</th>\n",
       "      <td>60</td>\n",
       "      <td>68.0</td>\n",
       "      <td>11250</td>\n",
       "      <td>7</td>\n",
       "      <td>5</td>\n",
       "      <td>2001</td>\n",
       "      <td>2002</td>\n",
       "      <td>162.0</td>\n",
       "      <td>486</td>\n",
       "      <td>0</td>\n",
       "      <td>...</td>\n",
       "      <td>0</td>\n",
       "      <td>42</td>\n",
       "      <td>0</td>\n",
       "      <td>0</td>\n",
       "      <td>0</td>\n",
       "      <td>0</td>\n",
       "      <td>0</td>\n",
       "      <td>9</td>\n",
       "      <td>2008</td>\n",
       "      <td>223500</td>\n",
       "    </tr>\n",
       "    <tr>\n",
       "      <th>4</th>\n",
       "      <td>70</td>\n",
       "      <td>60.0</td>\n",
       "      <td>9550</td>\n",
       "      <td>7</td>\n",
       "      <td>5</td>\n",
       "      <td>1915</td>\n",
       "      <td>1970</td>\n",
       "      <td>0.0</td>\n",
       "      <td>216</td>\n",
       "      <td>0</td>\n",
       "      <td>...</td>\n",
       "      <td>0</td>\n",
       "      <td>35</td>\n",
       "      <td>272</td>\n",
       "      <td>0</td>\n",
       "      <td>0</td>\n",
       "      <td>0</td>\n",
       "      <td>0</td>\n",
       "      <td>2</td>\n",
       "      <td>2006</td>\n",
       "      <td>140000</td>\n",
       "    </tr>\n",
       "    <tr>\n",
       "      <th>5</th>\n",
       "      <td>60</td>\n",
       "      <td>84.0</td>\n",
       "      <td>14260</td>\n",
       "      <td>8</td>\n",
       "      <td>5</td>\n",
       "      <td>2000</td>\n",
       "      <td>2000</td>\n",
       "      <td>350.0</td>\n",
       "      <td>655</td>\n",
       "      <td>0</td>\n",
       "      <td>...</td>\n",
       "      <td>192</td>\n",
       "      <td>84</td>\n",
       "      <td>0</td>\n",
       "      <td>0</td>\n",
       "      <td>0</td>\n",
       "      <td>0</td>\n",
       "      <td>0</td>\n",
       "      <td>12</td>\n",
       "      <td>2008</td>\n",
       "      <td>250000</td>\n",
       "    </tr>\n",
       "  </tbody>\n",
       "</table>\n",
       "<p>5 rows × 37 columns</p>\n",
       "</div>"
      ],
      "text/plain": [
       "    MSSubClass  LotFrontage  LotArea  OverallQual  OverallCond  YearBuilt  \\\n",
       "Id                                                                          \n",
       "1           60         65.0     8450            7            5       2003   \n",
       "2           20         80.0     9600            6            8       1976   \n",
       "3           60         68.0    11250            7            5       2001   \n",
       "4           70         60.0     9550            7            5       1915   \n",
       "5           60         84.0    14260            8            5       2000   \n",
       "\n",
       "    YearRemodAdd  MasVnrArea  BsmtFinSF1  BsmtFinSF2  ...  WoodDeckSF  \\\n",
       "Id                                                    ...               \n",
       "1           2003       196.0         706           0  ...           0   \n",
       "2           1976         0.0         978           0  ...         298   \n",
       "3           2002       162.0         486           0  ...           0   \n",
       "4           1970         0.0         216           0  ...           0   \n",
       "5           2000       350.0         655           0  ...         192   \n",
       "\n",
       "    OpenPorchSF  EnclosedPorch  3SsnPorch  ScreenPorch  PoolArea  MiscVal  \\\n",
       "Id                                                                          \n",
       "1            61              0          0            0         0        0   \n",
       "2             0              0          0            0         0        0   \n",
       "3            42              0          0            0         0        0   \n",
       "4            35            272          0            0         0        0   \n",
       "5            84              0          0            0         0        0   \n",
       "\n",
       "    MoSold  YrSold  SalePrice  \n",
       "Id                             \n",
       "1        2    2008     208500  \n",
       "2        5    2007     181500  \n",
       "3        9    2008     223500  \n",
       "4        2    2006     140000  \n",
       "5       12    2008     250000  \n",
       "\n",
       "[5 rows x 37 columns]"
      ]
     },
     "execution_count": 31,
     "metadata": {},
     "output_type": "execute_result"
    }
   ],
   "source": [
    "numeric_data.head()"
   ]
  },
  {
   "cell_type": "code",
   "execution_count": 32,
   "metadata": {
    "slideshow": {
     "slide_type": "subslide"
    }
   },
   "outputs": [
    {
     "data": {
      "text/html": [
       "<div>\n",
       "<style scoped>\n",
       "    .dataframe tbody tr th:only-of-type {\n",
       "        vertical-align: middle;\n",
       "    }\n",
       "\n",
       "    .dataframe tbody tr th {\n",
       "        vertical-align: top;\n",
       "    }\n",
       "\n",
       "    .dataframe thead th {\n",
       "        text-align: right;\n",
       "    }\n",
       "</style>\n",
       "<table border=\"1\" class=\"dataframe\">\n",
       "  <thead>\n",
       "    <tr style=\"text-align: right;\">\n",
       "      <th></th>\n",
       "      <th>Alley</th>\n",
       "      <th>BldgType</th>\n",
       "      <th>BsmtCond</th>\n",
       "      <th>BsmtExposure</th>\n",
       "      <th>BsmtFinType1</th>\n",
       "      <th>BsmtFinType2</th>\n",
       "      <th>BsmtQual</th>\n",
       "      <th>CentralAir</th>\n",
       "      <th>Condition1</th>\n",
       "      <th>Condition2</th>\n",
       "      <th>...</th>\n",
       "      <th>MiscFeature</th>\n",
       "      <th>Neighborhood</th>\n",
       "      <th>PavedDrive</th>\n",
       "      <th>PoolQC</th>\n",
       "      <th>RoofMatl</th>\n",
       "      <th>RoofStyle</th>\n",
       "      <th>SaleCondition</th>\n",
       "      <th>SaleType</th>\n",
       "      <th>Street</th>\n",
       "      <th>Utilities</th>\n",
       "    </tr>\n",
       "    <tr>\n",
       "      <th>Id</th>\n",
       "      <th></th>\n",
       "      <th></th>\n",
       "      <th></th>\n",
       "      <th></th>\n",
       "      <th></th>\n",
       "      <th></th>\n",
       "      <th></th>\n",
       "      <th></th>\n",
       "      <th></th>\n",
       "      <th></th>\n",
       "      <th></th>\n",
       "      <th></th>\n",
       "      <th></th>\n",
       "      <th></th>\n",
       "      <th></th>\n",
       "      <th></th>\n",
       "      <th></th>\n",
       "      <th></th>\n",
       "      <th></th>\n",
       "      <th></th>\n",
       "      <th></th>\n",
       "    </tr>\n",
       "  </thead>\n",
       "  <tbody>\n",
       "    <tr>\n",
       "      <th>1</th>\n",
       "      <td>NaN</td>\n",
       "      <td>1Fam</td>\n",
       "      <td>TA</td>\n",
       "      <td>No</td>\n",
       "      <td>GLQ</td>\n",
       "      <td>Unf</td>\n",
       "      <td>Gd</td>\n",
       "      <td>Y</td>\n",
       "      <td>Norm</td>\n",
       "      <td>Norm</td>\n",
       "      <td>...</td>\n",
       "      <td>NaN</td>\n",
       "      <td>CollgCr</td>\n",
       "      <td>Y</td>\n",
       "      <td>NaN</td>\n",
       "      <td>CompShg</td>\n",
       "      <td>Gable</td>\n",
       "      <td>Normal</td>\n",
       "      <td>WD</td>\n",
       "      <td>Pave</td>\n",
       "      <td>AllPub</td>\n",
       "    </tr>\n",
       "    <tr>\n",
       "      <th>2</th>\n",
       "      <td>NaN</td>\n",
       "      <td>1Fam</td>\n",
       "      <td>TA</td>\n",
       "      <td>Gd</td>\n",
       "      <td>ALQ</td>\n",
       "      <td>Unf</td>\n",
       "      <td>Gd</td>\n",
       "      <td>Y</td>\n",
       "      <td>Feedr</td>\n",
       "      <td>Norm</td>\n",
       "      <td>...</td>\n",
       "      <td>NaN</td>\n",
       "      <td>Veenker</td>\n",
       "      <td>Y</td>\n",
       "      <td>NaN</td>\n",
       "      <td>CompShg</td>\n",
       "      <td>Gable</td>\n",
       "      <td>Normal</td>\n",
       "      <td>WD</td>\n",
       "      <td>Pave</td>\n",
       "      <td>AllPub</td>\n",
       "    </tr>\n",
       "    <tr>\n",
       "      <th>3</th>\n",
       "      <td>NaN</td>\n",
       "      <td>1Fam</td>\n",
       "      <td>TA</td>\n",
       "      <td>Mn</td>\n",
       "      <td>GLQ</td>\n",
       "      <td>Unf</td>\n",
       "      <td>Gd</td>\n",
       "      <td>Y</td>\n",
       "      <td>Norm</td>\n",
       "      <td>Norm</td>\n",
       "      <td>...</td>\n",
       "      <td>NaN</td>\n",
       "      <td>CollgCr</td>\n",
       "      <td>Y</td>\n",
       "      <td>NaN</td>\n",
       "      <td>CompShg</td>\n",
       "      <td>Gable</td>\n",
       "      <td>Normal</td>\n",
       "      <td>WD</td>\n",
       "      <td>Pave</td>\n",
       "      <td>AllPub</td>\n",
       "    </tr>\n",
       "    <tr>\n",
       "      <th>4</th>\n",
       "      <td>NaN</td>\n",
       "      <td>1Fam</td>\n",
       "      <td>Gd</td>\n",
       "      <td>No</td>\n",
       "      <td>ALQ</td>\n",
       "      <td>Unf</td>\n",
       "      <td>TA</td>\n",
       "      <td>Y</td>\n",
       "      <td>Norm</td>\n",
       "      <td>Norm</td>\n",
       "      <td>...</td>\n",
       "      <td>NaN</td>\n",
       "      <td>Crawfor</td>\n",
       "      <td>Y</td>\n",
       "      <td>NaN</td>\n",
       "      <td>CompShg</td>\n",
       "      <td>Gable</td>\n",
       "      <td>Abnorml</td>\n",
       "      <td>WD</td>\n",
       "      <td>Pave</td>\n",
       "      <td>AllPub</td>\n",
       "    </tr>\n",
       "    <tr>\n",
       "      <th>5</th>\n",
       "      <td>NaN</td>\n",
       "      <td>1Fam</td>\n",
       "      <td>TA</td>\n",
       "      <td>Av</td>\n",
       "      <td>GLQ</td>\n",
       "      <td>Unf</td>\n",
       "      <td>Gd</td>\n",
       "      <td>Y</td>\n",
       "      <td>Norm</td>\n",
       "      <td>Norm</td>\n",
       "      <td>...</td>\n",
       "      <td>NaN</td>\n",
       "      <td>NoRidge</td>\n",
       "      <td>Y</td>\n",
       "      <td>NaN</td>\n",
       "      <td>CompShg</td>\n",
       "      <td>Gable</td>\n",
       "      <td>Normal</td>\n",
       "      <td>WD</td>\n",
       "      <td>Pave</td>\n",
       "      <td>AllPub</td>\n",
       "    </tr>\n",
       "  </tbody>\n",
       "</table>\n",
       "<p>5 rows × 43 columns</p>\n",
       "</div>"
      ],
      "text/plain": [
       "   Alley BldgType BsmtCond BsmtExposure BsmtFinType1 BsmtFinType2 BsmtQual  \\\n",
       "Id                                                                           \n",
       "1    NaN     1Fam       TA           No          GLQ          Unf       Gd   \n",
       "2    NaN     1Fam       TA           Gd          ALQ          Unf       Gd   \n",
       "3    NaN     1Fam       TA           Mn          GLQ          Unf       Gd   \n",
       "4    NaN     1Fam       Gd           No          ALQ          Unf       TA   \n",
       "5    NaN     1Fam       TA           Av          GLQ          Unf       Gd   \n",
       "\n",
       "   CentralAir Condition1 Condition2  ... MiscFeature Neighborhood PavedDrive  \\\n",
       "Id                                   ...                                       \n",
       "1           Y       Norm       Norm  ...         NaN      CollgCr          Y   \n",
       "2           Y      Feedr       Norm  ...         NaN      Veenker          Y   \n",
       "3           Y       Norm       Norm  ...         NaN      CollgCr          Y   \n",
       "4           Y       Norm       Norm  ...         NaN      Crawfor          Y   \n",
       "5           Y       Norm       Norm  ...         NaN      NoRidge          Y   \n",
       "\n",
       "   PoolQC RoofMatl RoofStyle SaleCondition SaleType Street Utilities  \n",
       "Id                                                                    \n",
       "1     NaN  CompShg     Gable        Normal       WD   Pave    AllPub  \n",
       "2     NaN  CompShg     Gable        Normal       WD   Pave    AllPub  \n",
       "3     NaN  CompShg     Gable        Normal       WD   Pave    AllPub  \n",
       "4     NaN  CompShg     Gable       Abnorml       WD   Pave    AllPub  \n",
       "5     NaN  CompShg     Gable        Normal       WD   Pave    AllPub  \n",
       "\n",
       "[5 rows x 43 columns]"
      ]
     },
     "execution_count": 32,
     "metadata": {},
     "output_type": "execute_result"
    }
   ],
   "source": [
    "cat_data.head()"
   ]
  },
  {
   "attachments": {},
   "cell_type": "markdown",
   "metadata": {
    "slideshow": {
     "slide_type": "subslide"
    }
   },
   "source": [
    "However, before applying Standardization, it is required that all the data needs to be imputed.\n",
    "\n",
    "So, let's first impute the missing values and then standardize the data.\n",
    "Also, after imputing let's check all the columns once."
   ]
  },
  {
   "cell_type": "code",
   "execution_count": 38,
   "metadata": {
    "slideshow": {
     "slide_type": "subslide"
    }
   },
   "outputs": [
    {
     "name": "stdout",
     "output_type": "stream",
     "text": [
      "<class 'pandas.core.frame.DataFrame'>\n",
      "Int64Index: 1442 entries, 1 to 1460\n",
      "Data columns (total 37 columns):\n",
      " #   Column         Non-Null Count  Dtype  \n",
      "---  ------         --------------  -----  \n",
      " 0   MSSubClass     1442 non-null   float64\n",
      " 1   LotFrontage    1442 non-null   float64\n",
      " 2   LotArea        1442 non-null   float64\n",
      " 3   OverallQual    1442 non-null   float64\n",
      " 4   OverallCond    1442 non-null   float64\n",
      " 5   YearBuilt      1442 non-null   float64\n",
      " 6   YearRemodAdd   1442 non-null   float64\n",
      " 7   MasVnrArea     1442 non-null   float64\n",
      " 8   BsmtFinSF1     1442 non-null   float64\n",
      " 9   BsmtFinSF2     1442 non-null   float64\n",
      " 10  BsmtUnfSF      1442 non-null   float64\n",
      " 11  TotalBsmtSF    1442 non-null   float64\n",
      " 12  1stFlrSF       1442 non-null   float64\n",
      " 13  2ndFlrSF       1442 non-null   float64\n",
      " 14  LowQualFinSF   1442 non-null   float64\n",
      " 15  GrLivArea      1442 non-null   float64\n",
      " 16  BsmtFullBath   1442 non-null   float64\n",
      " 17  BsmtHalfBath   1442 non-null   float64\n",
      " 18  FullBath       1442 non-null   float64\n",
      " 19  HalfBath       1442 non-null   float64\n",
      " 20  BedroomAbvGr   1442 non-null   float64\n",
      " 21  KitchenAbvGr   1442 non-null   float64\n",
      " 22  TotRmsAbvGrd   1442 non-null   float64\n",
      " 23  Fireplaces     1442 non-null   float64\n",
      " 24  GarageYrBlt    1442 non-null   float64\n",
      " 25  GarageCars     1442 non-null   float64\n",
      " 26  GarageArea     1442 non-null   float64\n",
      " 27  WoodDeckSF     1442 non-null   float64\n",
      " 28  OpenPorchSF    1442 non-null   float64\n",
      " 29  EnclosedPorch  1442 non-null   float64\n",
      " 30  3SsnPorch      1442 non-null   float64\n",
      " 31  ScreenPorch    1442 non-null   float64\n",
      " 32  PoolArea       1442 non-null   float64\n",
      " 33  MiscVal        1442 non-null   float64\n",
      " 34  MoSold         1442 non-null   float64\n",
      " 35  YrSold         1442 non-null   float64\n",
      " 36  SalePrice      1442 non-null   float64\n",
      "dtypes: float64(37)\n",
      "memory usage: 428.1 KB\n"
     ]
    }
   ],
   "source": [
    "# Imputing the missing values in numeric data to futher process it for standardization\n",
    "from sklearn.impute import SimpleImputer\n",
    "\n",
    "fill_Nan = SimpleImputer(missing_values=np.nan, strategy='median')\n",
    "imputed_DF = pd.DataFrame(fill_Nan.fit_transform(numeric_data))\n",
    "imputed_DF.columns = numeric_data.columns\n",
    "imputed_DF.index = numeric_data.index\n",
    "imputed_DF.info()"
   ]
  },
  {
   "attachments": {},
   "cell_type": "markdown",
   "metadata": {
    "slideshow": {
     "slide_type": "subslide"
    }
   },
   "source": [
    "Let's check out some of the entries of the Imputed DataFrame and check if any of the features contain any null value."
   ]
  },
  {
   "cell_type": "code",
   "execution_count": 39,
   "metadata": {
    "slideshow": {
     "slide_type": "subslide"
    }
   },
   "outputs": [
    {
     "data": {
      "text/html": [
       "<div>\n",
       "<style scoped>\n",
       "    .dataframe tbody tr th:only-of-type {\n",
       "        vertical-align: middle;\n",
       "    }\n",
       "\n",
       "    .dataframe tbody tr th {\n",
       "        vertical-align: top;\n",
       "    }\n",
       "\n",
       "    .dataframe thead th {\n",
       "        text-align: right;\n",
       "    }\n",
       "</style>\n",
       "<table border=\"1\" class=\"dataframe\">\n",
       "  <thead>\n",
       "    <tr style=\"text-align: right;\">\n",
       "      <th></th>\n",
       "      <th>MSSubClass</th>\n",
       "      <th>LotFrontage</th>\n",
       "      <th>LotArea</th>\n",
       "      <th>OverallQual</th>\n",
       "      <th>OverallCond</th>\n",
       "      <th>YearBuilt</th>\n",
       "      <th>YearRemodAdd</th>\n",
       "      <th>MasVnrArea</th>\n",
       "      <th>BsmtFinSF1</th>\n",
       "      <th>BsmtFinSF2</th>\n",
       "      <th>...</th>\n",
       "      <th>WoodDeckSF</th>\n",
       "      <th>OpenPorchSF</th>\n",
       "      <th>EnclosedPorch</th>\n",
       "      <th>3SsnPorch</th>\n",
       "      <th>ScreenPorch</th>\n",
       "      <th>PoolArea</th>\n",
       "      <th>MiscVal</th>\n",
       "      <th>MoSold</th>\n",
       "      <th>YrSold</th>\n",
       "      <th>SalePrice</th>\n",
       "    </tr>\n",
       "    <tr>\n",
       "      <th>Id</th>\n",
       "      <th></th>\n",
       "      <th></th>\n",
       "      <th></th>\n",
       "      <th></th>\n",
       "      <th></th>\n",
       "      <th></th>\n",
       "      <th></th>\n",
       "      <th></th>\n",
       "      <th></th>\n",
       "      <th></th>\n",
       "      <th></th>\n",
       "      <th></th>\n",
       "      <th></th>\n",
       "      <th></th>\n",
       "      <th></th>\n",
       "      <th></th>\n",
       "      <th></th>\n",
       "      <th></th>\n",
       "      <th></th>\n",
       "      <th></th>\n",
       "      <th></th>\n",
       "    </tr>\n",
       "  </thead>\n",
       "  <tbody>\n",
       "    <tr>\n",
       "      <th>1</th>\n",
       "      <td>60.0</td>\n",
       "      <td>65.0</td>\n",
       "      <td>8450.0</td>\n",
       "      <td>7.0</td>\n",
       "      <td>5.0</td>\n",
       "      <td>2003.0</td>\n",
       "      <td>2003.0</td>\n",
       "      <td>196.0</td>\n",
       "      <td>706.0</td>\n",
       "      <td>0.0</td>\n",
       "      <td>...</td>\n",
       "      <td>0.0</td>\n",
       "      <td>61.0</td>\n",
       "      <td>0.0</td>\n",
       "      <td>0.0</td>\n",
       "      <td>0.0</td>\n",
       "      <td>0.0</td>\n",
       "      <td>0.0</td>\n",
       "      <td>2.0</td>\n",
       "      <td>2008.0</td>\n",
       "      <td>208500.0</td>\n",
       "    </tr>\n",
       "    <tr>\n",
       "      <th>2</th>\n",
       "      <td>20.0</td>\n",
       "      <td>80.0</td>\n",
       "      <td>9600.0</td>\n",
       "      <td>6.0</td>\n",
       "      <td>8.0</td>\n",
       "      <td>1976.0</td>\n",
       "      <td>1976.0</td>\n",
       "      <td>0.0</td>\n",
       "      <td>978.0</td>\n",
       "      <td>0.0</td>\n",
       "      <td>...</td>\n",
       "      <td>298.0</td>\n",
       "      <td>0.0</td>\n",
       "      <td>0.0</td>\n",
       "      <td>0.0</td>\n",
       "      <td>0.0</td>\n",
       "      <td>0.0</td>\n",
       "      <td>0.0</td>\n",
       "      <td>5.0</td>\n",
       "      <td>2007.0</td>\n",
       "      <td>181500.0</td>\n",
       "    </tr>\n",
       "    <tr>\n",
       "      <th>3</th>\n",
       "      <td>60.0</td>\n",
       "      <td>68.0</td>\n",
       "      <td>11250.0</td>\n",
       "      <td>7.0</td>\n",
       "      <td>5.0</td>\n",
       "      <td>2001.0</td>\n",
       "      <td>2002.0</td>\n",
       "      <td>162.0</td>\n",
       "      <td>486.0</td>\n",
       "      <td>0.0</td>\n",
       "      <td>...</td>\n",
       "      <td>0.0</td>\n",
       "      <td>42.0</td>\n",
       "      <td>0.0</td>\n",
       "      <td>0.0</td>\n",
       "      <td>0.0</td>\n",
       "      <td>0.0</td>\n",
       "      <td>0.0</td>\n",
       "      <td>9.0</td>\n",
       "      <td>2008.0</td>\n",
       "      <td>223500.0</td>\n",
       "    </tr>\n",
       "    <tr>\n",
       "      <th>4</th>\n",
       "      <td>70.0</td>\n",
       "      <td>60.0</td>\n",
       "      <td>9550.0</td>\n",
       "      <td>7.0</td>\n",
       "      <td>5.0</td>\n",
       "      <td>1915.0</td>\n",
       "      <td>1970.0</td>\n",
       "      <td>0.0</td>\n",
       "      <td>216.0</td>\n",
       "      <td>0.0</td>\n",
       "      <td>...</td>\n",
       "      <td>0.0</td>\n",
       "      <td>35.0</td>\n",
       "      <td>272.0</td>\n",
       "      <td>0.0</td>\n",
       "      <td>0.0</td>\n",
       "      <td>0.0</td>\n",
       "      <td>0.0</td>\n",
       "      <td>2.0</td>\n",
       "      <td>2006.0</td>\n",
       "      <td>140000.0</td>\n",
       "    </tr>\n",
       "    <tr>\n",
       "      <th>5</th>\n",
       "      <td>60.0</td>\n",
       "      <td>84.0</td>\n",
       "      <td>14260.0</td>\n",
       "      <td>8.0</td>\n",
       "      <td>5.0</td>\n",
       "      <td>2000.0</td>\n",
       "      <td>2000.0</td>\n",
       "      <td>350.0</td>\n",
       "      <td>655.0</td>\n",
       "      <td>0.0</td>\n",
       "      <td>...</td>\n",
       "      <td>192.0</td>\n",
       "      <td>84.0</td>\n",
       "      <td>0.0</td>\n",
       "      <td>0.0</td>\n",
       "      <td>0.0</td>\n",
       "      <td>0.0</td>\n",
       "      <td>0.0</td>\n",
       "      <td>12.0</td>\n",
       "      <td>2008.0</td>\n",
       "      <td>250000.0</td>\n",
       "    </tr>\n",
       "  </tbody>\n",
       "</table>\n",
       "<p>5 rows × 37 columns</p>\n",
       "</div>"
      ],
      "text/plain": [
       "    MSSubClass  LotFrontage  LotArea  OverallQual  OverallCond  YearBuilt  \\\n",
       "Id                                                                          \n",
       "1         60.0         65.0   8450.0          7.0          5.0     2003.0   \n",
       "2         20.0         80.0   9600.0          6.0          8.0     1976.0   \n",
       "3         60.0         68.0  11250.0          7.0          5.0     2001.0   \n",
       "4         70.0         60.0   9550.0          7.0          5.0     1915.0   \n",
       "5         60.0         84.0  14260.0          8.0          5.0     2000.0   \n",
       "\n",
       "    YearRemodAdd  MasVnrArea  BsmtFinSF1  BsmtFinSF2  ...  WoodDeckSF  \\\n",
       "Id                                                    ...               \n",
       "1         2003.0       196.0       706.0         0.0  ...         0.0   \n",
       "2         1976.0         0.0       978.0         0.0  ...       298.0   \n",
       "3         2002.0       162.0       486.0         0.0  ...         0.0   \n",
       "4         1970.0         0.0       216.0         0.0  ...         0.0   \n",
       "5         2000.0       350.0       655.0         0.0  ...       192.0   \n",
       "\n",
       "    OpenPorchSF  EnclosedPorch  3SsnPorch  ScreenPorch  PoolArea  MiscVal  \\\n",
       "Id                                                                          \n",
       "1          61.0            0.0        0.0          0.0       0.0      0.0   \n",
       "2           0.0            0.0        0.0          0.0       0.0      0.0   \n",
       "3          42.0            0.0        0.0          0.0       0.0      0.0   \n",
       "4          35.0          272.0        0.0          0.0       0.0      0.0   \n",
       "5          84.0            0.0        0.0          0.0       0.0      0.0   \n",
       "\n",
       "    MoSold  YrSold  SalePrice  \n",
       "Id                             \n",
       "1      2.0  2008.0   208500.0  \n",
       "2      5.0  2007.0   181500.0  \n",
       "3      9.0  2008.0   223500.0  \n",
       "4      2.0  2006.0   140000.0  \n",
       "5     12.0  2008.0   250000.0  \n",
       "\n",
       "[5 rows x 37 columns]"
      ]
     },
     "execution_count": 39,
     "metadata": {},
     "output_type": "execute_result"
    }
   ],
   "source": [
    "imputed_DF.head()"
   ]
  },
  {
   "cell_type": "code",
   "execution_count": 40,
   "metadata": {
    "slideshow": {
     "slide_type": "subslide"
    }
   },
   "outputs": [
    {
     "data": {
      "text/plain": [
       "False"
      ]
     },
     "execution_count": 40,
     "metadata": {},
     "output_type": "execute_result"
    }
   ],
   "source": [
    "imputed_DF.isnull().values.any()"
   ]
  },
  {
   "attachments": {},
   "cell_type": "markdown",
   "metadata": {
    "slideshow": {
     "slide_type": "subslide"
    }
   },
   "source": [
    "Also, let's check out some of the columns in the data"
   ]
  },
  {
   "cell_type": "code",
   "execution_count": 41,
   "metadata": {
    "slideshow": {
     "slide_type": "subslide"
    }
   },
   "outputs": [
    {
     "data": {
      "text/plain": [
       "Index(['MSSubClass', 'LotFrontage', 'LotArea', 'OverallQual', 'OverallCond',\n",
       "       'YearBuilt', 'YearRemodAdd', 'MasVnrArea', 'BsmtFinSF1', 'BsmtFinSF2',\n",
       "       'BsmtUnfSF', 'TotalBsmtSF', '1stFlrSF', '2ndFlrSF', 'LowQualFinSF',\n",
       "       'GrLivArea', 'BsmtFullBath', 'BsmtHalfBath', 'FullBath', 'HalfBath',\n",
       "       'BedroomAbvGr', 'KitchenAbvGr', 'TotRmsAbvGrd', 'Fireplaces',\n",
       "       'GarageYrBlt', 'GarageCars', 'GarageArea', 'WoodDeckSF', 'OpenPorchSF',\n",
       "       'EnclosedPorch', '3SsnPorch', 'ScreenPorch', 'PoolArea', 'MiscVal',\n",
       "       'MoSold', 'YrSold', 'SalePrice'],\n",
       "      dtype='object')"
      ]
     },
     "execution_count": 41,
     "metadata": {},
     "output_type": "execute_result"
    }
   ],
   "source": [
    "column_transform = numeric_data.columns\n",
    "column_transform"
   ]
  },
  {
   "attachments": {},
   "cell_type": "markdown",
   "metadata": {
    "slideshow": {
     "slide_type": "subslide"
    }
   },
   "source": [
    "Now, that the missing values have been imputed, we move on to standardizing the data using scale() function in preprocessing module of sklearn library.\n",
    "\n",
    "Also, check out the standardized data."
   ]
  },
  {
   "cell_type": "code",
   "execution_count": 42,
   "metadata": {
    "slideshow": {
     "slide_type": "subslide"
    }
   },
   "outputs": [
    {
     "data": {
      "text/plain": [
       "array([[ 0.07625473, -0.21119743, -0.19454079, ..., -1.60431719,\n",
       "         0.13789927,  0.40961178],\n",
       "       [-0.86760206,  0.51599143, -0.0771501 , ..., -0.49422823,\n",
       "        -0.61532325,  0.0430575 ],\n",
       "       [ 0.07625473, -0.06575966,  0.09128002, ...,  0.98589038,\n",
       "         0.13789927,  0.61325304],\n",
       "       ...,\n",
       "       [ 0.31221892, -0.16271817, -0.1341101 , ..., -0.49422823,\n",
       "         1.6443443 ,  1.19702466],\n",
       "       [-0.86760206, -0.06575966, -0.06520687, ..., -0.86425788,\n",
       "         1.6443443 , -0.49150081],\n",
       "       [-0.86760206,  0.27359514, -0.04274952, ..., -0.12419858,\n",
       "         0.13789927, -0.41852936]])"
      ]
     },
     "execution_count": 42,
     "metadata": {},
     "output_type": "execute_result"
    }
   ],
   "source": [
    "from sklearn import preprocessing\n",
    "standardized_DF = preprocessing.scale(imputed_DF)\n",
    "standardized_DF"
   ]
  },
  {
   "attachments": {},
   "cell_type": "markdown",
   "metadata": {
    "slideshow": {
     "slide_type": "subslide"
    }
   },
   "source": [
    "<img src=\"../images/Concept-Alert.png\" alt=\"Concept-Alert\" style=\"width: 100px;float:left; margin-right:15px\"/>\n",
    "<br />\n",
    "\n",
    "## Scaling\n",
    "***\n",
    "After observing the data, we realised that it wasn't a great idea to compare two entirely different things.\n",
    "\n",
    "For eg : It wouldn't be wise to compare GrLivArea(squarefoot) and YrSold(time) even though both are numerical features.\n",
    "\n",
    "\n",
    "When there are predictors with different units and ranges, the final model will have coefficients which are very small for some predictors and it makes it difficult to interpret.\n",
    "\n",
    "We need to somehow **scale down everything in a range**, so that the model's prediction is not affected by the different units at all.\n",
    "\n",
    "**Scaling**\n",
    "\n",
    "An alternative standardization is scaling features to lie between a given minimum and maximum value, often between zero and one, or so that the maximum absolute value of each feature is scaled to unit size.\n",
    "\n",
    "Centering and Scaling will improve the numerical stability of some models\n",
    "\n",
    "But Standardization cannot be applied on categorical data, hence we split the categorical and numerical data in order to standardize the numerical data."
   ]
  },
  {
   "cell_type": "code",
   "execution_count": 43,
   "metadata": {
    "scrolled": true,
    "slideshow": {
     "slide_type": "subslide"
    }
   },
   "outputs": [
    {
     "data": {
      "text/html": [
       "<div>\n",
       "<style scoped>\n",
       "    .dataframe tbody tr th:only-of-type {\n",
       "        vertical-align: middle;\n",
       "    }\n",
       "\n",
       "    .dataframe tbody tr th {\n",
       "        vertical-align: top;\n",
       "    }\n",
       "\n",
       "    .dataframe thead th {\n",
       "        text-align: right;\n",
       "    }\n",
       "</style>\n",
       "<table border=\"1\" class=\"dataframe\">\n",
       "  <thead>\n",
       "    <tr style=\"text-align: right;\">\n",
       "      <th></th>\n",
       "      <th>MSSubClass</th>\n",
       "      <th>LotFrontage</th>\n",
       "      <th>LotArea</th>\n",
       "      <th>OverallQual</th>\n",
       "      <th>OverallCond</th>\n",
       "      <th>YearBuilt</th>\n",
       "      <th>YearRemodAdd</th>\n",
       "      <th>MasVnrArea</th>\n",
       "      <th>BsmtFinSF1</th>\n",
       "      <th>BsmtFinSF2</th>\n",
       "      <th>...</th>\n",
       "      <th>WoodDeckSF</th>\n",
       "      <th>OpenPorchSF</th>\n",
       "      <th>EnclosedPorch</th>\n",
       "      <th>3SsnPorch</th>\n",
       "      <th>ScreenPorch</th>\n",
       "      <th>PoolArea</th>\n",
       "      <th>MiscVal</th>\n",
       "      <th>MoSold</th>\n",
       "      <th>YrSold</th>\n",
       "      <th>SalePrice</th>\n",
       "    </tr>\n",
       "    <tr>\n",
       "      <th>Id</th>\n",
       "      <th></th>\n",
       "      <th></th>\n",
       "      <th></th>\n",
       "      <th></th>\n",
       "      <th></th>\n",
       "      <th></th>\n",
       "      <th></th>\n",
       "      <th></th>\n",
       "      <th></th>\n",
       "      <th></th>\n",
       "      <th></th>\n",
       "      <th></th>\n",
       "      <th></th>\n",
       "      <th></th>\n",
       "      <th></th>\n",
       "      <th></th>\n",
       "      <th></th>\n",
       "      <th></th>\n",
       "      <th></th>\n",
       "      <th></th>\n",
       "      <th></th>\n",
       "    </tr>\n",
       "  </thead>\n",
       "  <tbody>\n",
       "    <tr>\n",
       "      <th>1</th>\n",
       "      <td>0.076255</td>\n",
       "      <td>-0.211197</td>\n",
       "      <td>-0.194541</td>\n",
       "      <td>0.682599</td>\n",
       "      <td>-0.518955</td>\n",
       "      <td>1.054794</td>\n",
       "      <td>0.882718</td>\n",
       "      <td>0.560747</td>\n",
       "      <td>0.632594</td>\n",
       "      <td>-0.288541</td>\n",
       "      <td>...</td>\n",
       "      <td>-0.746410</td>\n",
       "      <td>0.228068</td>\n",
       "      <td>-0.364331</td>\n",
       "      <td>-0.117073</td>\n",
       "      <td>-0.270177</td>\n",
       "      <td>-0.052286</td>\n",
       "      <td>-0.088238</td>\n",
       "      <td>-1.604317</td>\n",
       "      <td>0.137899</td>\n",
       "      <td>0.409612</td>\n",
       "    </tr>\n",
       "    <tr>\n",
       "      <th>2</th>\n",
       "      <td>-0.867602</td>\n",
       "      <td>0.515991</td>\n",
       "      <td>-0.077150</td>\n",
       "      <td>-0.053057</td>\n",
       "      <td>2.198961</td>\n",
       "      <td>0.154234</td>\n",
       "      <td>-0.421313</td>\n",
       "      <td>-0.580575</td>\n",
       "      <td>1.267655</td>\n",
       "      <td>-0.288541</td>\n",
       "      <td>...</td>\n",
       "      <td>1.650317</td>\n",
       "      <td>-0.706060</td>\n",
       "      <td>-0.364331</td>\n",
       "      <td>-0.117073</td>\n",
       "      <td>-0.270177</td>\n",
       "      <td>-0.052286</td>\n",
       "      <td>-0.088238</td>\n",
       "      <td>-0.494228</td>\n",
       "      <td>-0.615323</td>\n",
       "      <td>0.043058</td>\n",
       "    </tr>\n",
       "    <tr>\n",
       "      <th>3</th>\n",
       "      <td>0.076255</td>\n",
       "      <td>-0.065760</td>\n",
       "      <td>0.091280</td>\n",
       "      <td>0.682599</td>\n",
       "      <td>-0.518955</td>\n",
       "      <td>0.988086</td>\n",
       "      <td>0.834421</td>\n",
       "      <td>0.362763</td>\n",
       "      <td>0.118941</td>\n",
       "      <td>-0.288541</td>\n",
       "      <td>...</td>\n",
       "      <td>-0.746410</td>\n",
       "      <td>-0.062890</td>\n",
       "      <td>-0.364331</td>\n",
       "      <td>-0.117073</td>\n",
       "      <td>-0.270177</td>\n",
       "      <td>-0.052286</td>\n",
       "      <td>-0.088238</td>\n",
       "      <td>0.985890</td>\n",
       "      <td>0.137899</td>\n",
       "      <td>0.613253</td>\n",
       "    </tr>\n",
       "    <tr>\n",
       "      <th>4</th>\n",
       "      <td>0.312219</td>\n",
       "      <td>-0.453594</td>\n",
       "      <td>-0.082254</td>\n",
       "      <td>0.682599</td>\n",
       "      <td>-0.518955</td>\n",
       "      <td>-1.880365</td>\n",
       "      <td>-0.711098</td>\n",
       "      <td>-0.580575</td>\n",
       "      <td>-0.511451</td>\n",
       "      <td>-0.288541</td>\n",
       "      <td>...</td>\n",
       "      <td>-0.746410</td>\n",
       "      <td>-0.170085</td>\n",
       "      <td>4.214305</td>\n",
       "      <td>-0.117073</td>\n",
       "      <td>-0.270177</td>\n",
       "      <td>-0.052286</td>\n",
       "      <td>-0.088238</td>\n",
       "      <td>-1.604317</td>\n",
       "      <td>-1.368546</td>\n",
       "      <td>-0.520350</td>\n",
       "    </tr>\n",
       "    <tr>\n",
       "      <th>5</th>\n",
       "      <td>0.076255</td>\n",
       "      <td>0.709908</td>\n",
       "      <td>0.398537</td>\n",
       "      <td>1.418255</td>\n",
       "      <td>-0.518955</td>\n",
       "      <td>0.954732</td>\n",
       "      <td>0.737826</td>\n",
       "      <td>1.457500</td>\n",
       "      <td>0.513520</td>\n",
       "      <td>-0.288541</td>\n",
       "      <td>...</td>\n",
       "      <td>0.797790</td>\n",
       "      <td>0.580281</td>\n",
       "      <td>-0.364331</td>\n",
       "      <td>-0.117073</td>\n",
       "      <td>-0.270177</td>\n",
       "      <td>-0.052286</td>\n",
       "      <td>-0.088238</td>\n",
       "      <td>2.095979</td>\n",
       "      <td>0.137899</td>\n",
       "      <td>0.973019</td>\n",
       "    </tr>\n",
       "  </tbody>\n",
       "</table>\n",
       "<p>5 rows × 37 columns</p>\n",
       "</div>"
      ],
      "text/plain": [
       "    MSSubClass  LotFrontage   LotArea  OverallQual  OverallCond  YearBuilt  \\\n",
       "Id                                                                           \n",
       "1     0.076255    -0.211197 -0.194541     0.682599    -0.518955   1.054794   \n",
       "2    -0.867602     0.515991 -0.077150    -0.053057     2.198961   0.154234   \n",
       "3     0.076255    -0.065760  0.091280     0.682599    -0.518955   0.988086   \n",
       "4     0.312219    -0.453594 -0.082254     0.682599    -0.518955  -1.880365   \n",
       "5     0.076255     0.709908  0.398537     1.418255    -0.518955   0.954732   \n",
       "\n",
       "    YearRemodAdd  MasVnrArea  BsmtFinSF1  BsmtFinSF2  ...  WoodDeckSF  \\\n",
       "Id                                                    ...               \n",
       "1       0.882718    0.560747    0.632594   -0.288541  ...   -0.746410   \n",
       "2      -0.421313   -0.580575    1.267655   -0.288541  ...    1.650317   \n",
       "3       0.834421    0.362763    0.118941   -0.288541  ...   -0.746410   \n",
       "4      -0.711098   -0.580575   -0.511451   -0.288541  ...   -0.746410   \n",
       "5       0.737826    1.457500    0.513520   -0.288541  ...    0.797790   \n",
       "\n",
       "    OpenPorchSF  EnclosedPorch  3SsnPorch  ScreenPorch  PoolArea   MiscVal  \\\n",
       "Id                                                                           \n",
       "1      0.228068      -0.364331  -0.117073    -0.270177 -0.052286 -0.088238   \n",
       "2     -0.706060      -0.364331  -0.117073    -0.270177 -0.052286 -0.088238   \n",
       "3     -0.062890      -0.364331  -0.117073    -0.270177 -0.052286 -0.088238   \n",
       "4     -0.170085       4.214305  -0.117073    -0.270177 -0.052286 -0.088238   \n",
       "5      0.580281      -0.364331  -0.117073    -0.270177 -0.052286 -0.088238   \n",
       "\n",
       "      MoSold    YrSold  SalePrice  \n",
       "Id                                 \n",
       "1  -1.604317  0.137899   0.409612  \n",
       "2  -0.494228 -0.615323   0.043058  \n",
       "3   0.985890  0.137899   0.613253  \n",
       "4  -1.604317 -1.368546  -0.520350  \n",
       "5   2.095979  0.137899   0.973019  \n",
       "\n",
       "[5 rows x 37 columns]"
      ]
     },
     "execution_count": 43,
     "metadata": {},
     "output_type": "execute_result"
    }
   ],
   "source": [
    "# Standardizing numerical features\n",
    "from sklearn.preprocessing import StandardScaler\n",
    "stand_scale= StandardScaler()\n",
    "imputed_DF.loc[:, column_transform] = stand_scale.fit_transform(imputed_DF.loc[:, column_transform])\n",
    "imputed_DF.head()"
   ]
  },
  {
   "attachments": {},
   "cell_type": "markdown",
   "metadata": {
    "slideshow": {
     "slide_type": "subslide"
    }
   },
   "source": [
    "<img src=\"../images/Concept-Alert.png\" alt=\"Concept-Alert\" style=\"width: 100px;float:left; margin-right:15px\"/>\n",
    "<br />\n",
    "\n",
    "### Algebraic Transformations\n",
    "***"
   ]
  },
  {
   "attachments": {},
   "cell_type": "markdown",
   "metadata": {
    "slideshow": {
     "slide_type": "subslide"
    }
   },
   "source": [
    "We are now thorough with Polynomial Features and dealing with skewness using log transformation and square root transformation.\n",
    "\n",
    "All of these, fall under **ALGEBRAIC TRANSFORMATIONS.**\n",
    "\n",
    "We have already observed that transforming a variable into another form drastically improves a model’s performance.\n",
    "\n",
    "Let's look at another example.\n",
    "\n",
    "Here, we plot the distribution plot and probablity plot for TotalBsmtSF. "
   ]
  },
  {
   "cell_type": "code",
   "execution_count": 44,
   "metadata": {
    "slideshow": {
     "slide_type": "subslide"
    }
   },
   "outputs": [
    {
     "name": "stderr",
     "output_type": "stream",
     "text": [
      "/var/folders/4w/crldx3nn537gxgqp38n9lgv40000gn/T/ipykernel_1874/132315514.py:2: UserWarning: \n",
      "\n",
      "`distplot` is a deprecated function and will be removed in seaborn v0.14.0.\n",
      "\n",
      "Please adapt your code to use either `displot` (a figure-level function with\n",
      "similar flexibility) or `histplot` (an axes-level function for histograms).\n",
      "\n",
      "For a guide to updating your code to use the new functions, please see\n",
      "https://gist.github.com/mwaskom/de44147ed2974457ad6372750bbe5751\n",
      "\n",
      "  sns.distplot(df['TotalBsmtSF'], fit=norm);\n"
     ]
    },
    {
     "data": {
      "image/png": "[encoded data removed]",
      "text/plain": [
       "<Figure size 640x480 with 1 Axes>"
      ]
     },
     "metadata": {},
     "output_type": "display_data"
    },
    {
     "data": {
      "image/png": "[encoded data removed]",
      "text/plain": [
       "<Figure size 640x480 with 1 Axes>"
      ]
     },
     "metadata": {},
     "output_type": "display_data"
    }
   ],
   "source": [
    "#histogram and normal probability plot\n",
    "sns.distplot(df['TotalBsmtSF'], fit=norm);\n",
    "fig = plt.figure()\n",
    "res = stats.probplot(df['TotalBsmtSF'], plot=plt)"
   ]
  },
  {
   "attachments": {},
   "cell_type": "markdown",
   "metadata": {
    "slideshow": {
     "slide_type": "subslide"
    }
   },
   "source": [
    "There is a problem with the  variable `TotalBsmtSF` : \n",
    "\n",
    "- A significant number of observations with value zero (houses without basement) as evident by the horizontal section of the blue line.\n",
    "- A big problem because the value zero doesn't allow us to do log transformations.\n",
    "\n",
    "One approach would be to apply a sqrt transformation here.\n",
    "Or we will have to create a variable that can get the effect of having or not having basement (binary variable) and then apply a log transformation to all the non-zero observations, ignoring those with value zero. This way we can transform data, without losing the effect of having or not basement.\n",
    "\n",
    "If the house has a basement then we add them to a different column, else ignore it."
   ]
  },
  {
   "cell_type": "code",
   "execution_count": null,
   "metadata": {
    "scrolled": true,
    "slideshow": {
     "slide_type": "subslide"
    }
   },
   "outputs": [
    {
     "data": {
      "text/plain": [
       "1405"
      ]
     },
     "execution_count": 78,
     "metadata": {},
     "output_type": "execute_result"
    }
   ],
   "source": [
    "#create column for new variable that has the value 1 if the area of Basement is greater than 0 else has the value 0\n",
    "#Signifies whether the house has a basement or not (1==yes, 0==no).\n",
    "\n",
    "df['NewBsmt'] = 0\n",
    "df.loc[df.TotalBsmtSF > 0, \"NewBsmt\"] = 1\n",
    "#Number of houses with a basement.\n",
    "len(df.loc[df['NewBsmt'] == 1])"
   ]
  },
  {
   "attachments": {},
   "cell_type": "markdown",
   "metadata": {
    "slideshow": {
     "slide_type": "subslide"
    }
   },
   "source": [
    "Now, let's apply square root transform over this new column & then replot the histogram and probability plot for it."
   ]
  },
  {
   "cell_type": "code",
   "execution_count": null,
   "metadata": {
    "slideshow": {
     "slide_type": "subslide"
    }
   },
   "outputs": [],
   "source": [
    "# transform data\n",
    "df.loc[df.NewBsmt == 1,'TotalBsmtSF'] = np.sqrt(df['TotalBsmtSF'])"
   ]
  },
  {
   "cell_type": "code",
   "execution_count": null,
   "metadata": {
    "slideshow": {
     "slide_type": "subslide"
    }
   },
   "outputs": [
    {
     "name": "stderr",
     "output_type": "stream",
     "text": [
      "/home/pranav/anaconda3/lib/python3.6/site-packages/matplotlib/axes/_axes.py:6462: UserWarning: The 'normed' kwarg is deprecated, and has been replaced by the 'density' kwarg.\n",
      "  warnings.warn(\"The 'normed' kwarg is deprecated, and has been \"\n"
     ]
    },
    {
     "data": {
      "image/png": "[encoded data removed]",
      "text/plain": [
       "<Figure size 432x288 with 1 Axes>"
      ]
     },
     "metadata": {},
     "output_type": "display_data"
    },
    {
     "data": {
      "image/png": "[encoded data removed]",
      "text/plain": [
       "<Figure size 432x288 with 1 Axes>"
      ]
     },
     "metadata": {},
     "output_type": "display_data"
    }
   ],
   "source": [
    "# histogram and normal probability plot\n",
    "sns.distplot(df[df['TotalBsmtSF']>0]['TotalBsmtSF'], fit=norm);\n",
    "fig = plt.figure()\n",
    "res = stats.probplot(df[df['TotalBsmtSF']>0]['TotalBsmtSF'], plot=plt)"
   ]
  },
  {
   "attachments": {},
   "cell_type": "markdown",
   "metadata": {
    "slideshow": {
     "slide_type": "subslide"
    }
   },
   "source": [
    "So, far we have covered log and sqrt tranformations,\n",
    "Here are a few more useful transforms:\n",
    "\n",
    "- Exponential Transform\n",
    "- Tanh Transform\n",
    "- Polynomial Transform\n"
   ]
  },
  {
   "cell_type": "code",
   "execution_count": null,
   "metadata": {},
   "outputs": [],
   "source": []
  },
  {
   "attachments": {},
   "cell_type": "markdown",
   "metadata": {},
   "source": [
    "\n",
    "<img src=\"../images/icon/ppt-icons.png\" alt=\"Concept-Alert\" style=\"width: 100px;float:left; margin-right:15px\"/>\n",
    "<br /> \n",
    "\n",
    "##  Mini-Challenge - 3\n",
    "Label Encode the categorical features.\n"
   ]
  },
  {
   "cell_type": "code",
   "execution_count": null,
   "metadata": {},
   "outputs": [],
   "source": []
  },
  {
   "attachments": {},
   "cell_type": "markdown",
   "metadata": {},
   "source": [
    "\n",
    "<img src=\"../images/icon/ppt-icons.png\" alt=\"Concept-Alert\" style=\"width: 100px;float:left; margin-right:15px\"/>\n",
    "<br /> \n",
    "\n",
    "##  Mini-Challenge - 4\n",
    "Combine the 'height' and 'width' to make a new feature 'area' of the frame of the car."
   ]
  },
  {
   "cell_type": "code",
   "execution_count": null,
   "metadata": {},
   "outputs": [],
   "source": []
  }
 ],
 "metadata": {
  "celltoolbar": "Slideshow",
  "kernelspec": {
   "display_name": "Python 3",
   "language": "python",
   "name": "python3"
  },
  "language_info": {
   "codemirror_mode": {
    "name": "ipython",
    "version": 3
   },
   "file_extension": ".py",
   "mimetype": "text/x-python",
   "name": "python",
   "nbconvert_exporter": "python",
   "pygments_lexer": "ipython3",
   "version": "3.8.9"
  },
  "widgets": {
   "state": {},
   "version": "1.1.2"
  }
 },
 "nbformat": 4,
 "nbformat_minor": 2
}
