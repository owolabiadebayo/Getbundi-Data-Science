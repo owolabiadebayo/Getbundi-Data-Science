{
 "cells": [
  {
   "cell_type": "markdown",
   "metadata": {},
   "source": [
    "<img src=\"../images/26-weeks-of-data-science-banner.jpg\"/>"
   ]
  },
  {
   "cell_type": "markdown",
   "metadata": {
    "slideshow": {
     "slide_type": "slide"
    }
   },
   "source": [
    "# Plotting with Pandas"
   ]
  },
  {
   "cell_type": "markdown",
   "metadata": {
    "slideshow": {
     "slide_type": "slide"
    }
   },
   "source": [
    "# Program so far \n",
    "***\n",
    "\n",
    "- Python Basics\n",
    "- Python Programming Constructs\n",
    "- Data Structures\n",
    "- Functions\n",
    "- Object Oriented Programming in Python\n",
    "- NumPy\n",
    "- Pandas"
   ]
  },
  {
   "cell_type": "markdown",
   "metadata": {
    "slideshow": {
     "slide_type": "slide"
    }
   },
   "source": [
    "# What are we going to learn today?\n",
    "***\n",
    "\n",
    "- Python Data Visualization Libraries\n",
    "    - Matplotlib\n",
    "        - Matplotlib basics\n",
    "        - Barplot\n",
    "        - Histograms\n",
    "        - Box Plots\n",
    "        - Scatter Plots\n",
    "    - Seaborn\n",
    "<br/><br/>\n",
    "\n",
    "- Plot Types \n",
    "<br/><br/>\n",
    "\n",
    "- Plot Customization"
   ]
  },
  {
   "cell_type": "markdown",
   "metadata": {
    "slideshow": {
     "slide_type": "slide"
    }
   },
   "source": [
    "<img src=\"../images/icon/Concept-Alert.png\" alt=\"Concept-Alert\" style=\"width: 100px;float:left; margin-right:15px\"/>\n",
    "<br /> \n",
    "\n",
    "# Python Data Visualization Libraries\n",
    "\n",
    "Python is vastly popular among data scientists, one key reason being its strength with data analysis. Data Visualization is a key skill for aspiring data scientists. It helps us to interpret data easily and convey information in an effective way.\n",
    "\n",
    "## Why is it important?\n",
    "\n",
    "1. Explore data to get a better grasp of the data.\n",
    "2. Report insights to convey their results to somebody else.\n",
    "***\n",
    "<img src=\"../images/image84.jpg\" alt=\"libs\" style=\"width: 50%\"/>"
   ]
  },
  {
   "cell_type": "markdown",
   "metadata": {
    "slideshow": {
     "slide_type": "slide"
    }
   },
   "source": [
    "<img src=\"../images/logo.svg\" width=\"20%\">\n",
    "Image source : https://matplotlib.org/\n",
    "***\n",
    "## Introduction:\n",
    "\n",
    "\n",
    "Arguably, the most popular data visualization library with Python is Matplotlib. It produces publication quality figures in a variety of hardcopy formats and interactive environments across platforms. Matplotlib can be used in Python scripts, the Python and IPython shell, Jupyter notebook, web application servers, and four graphical user interface toolkits.\n",
    "\n",
    "Matplotlib makes hard things easy to interpret. You can generate plots, histograms, power spectra, bar charts, errorcharts, scatterplots, etc., with just a few lines of code.\n",
    "\n",
    "It is used along with NumPy and Pandas to provide an environment that is an effective open source alternative for MatLab. It can also be used with graphics toolkits like PyQt and wxPython.\n",
    "Here, you will learn to build various types of plots and to customize them to make them more visually appealing and interpretable.\n",
    "***\n",
    "<img src=\"../images/image90.jpg\" alt=\"libs\" style=\"width: 700px\"/>\n",
    "<!-- <img src=\"../images/image116.jpg\" alt=\"libs\" style=\"width: 50%\"/> -->"
   ]
  },
  {
   "cell_type": "markdown",
   "metadata": {
    "slideshow": {
     "slide_type": "slide"
    }
   },
   "source": [
    "<img src=\"../images/icon/Concept-Alert.png\" alt=\"Concept-Alert\" style=\"width: 100px;float:left; margin-right:15px\"/>\n",
    "<br /> \n",
    "\n",
    "# Matplotlib Basics\n",
    "***\n",
    "At the core of it, we need to remember some important things\n",
    "1. The canvas to \"draw\" data(stored in the computer's memory)\n",
    "2. The axes\n",
    "3. \"Show\" that data\n",
    "\n",
    "Everything else is just details.\n",
    "\n"
   ]
  },
  {
   "cell_type": "markdown",
   "metadata": {
    "slideshow": {
     "slide_type": "subslide"
    }
   },
   "source": [
    "<img src=\"../images/icon/Technical-Stuff.png\" alt=\"Concept-Alert\" style=\"width: 100px;float:left; margin-right:15px\"/>\n",
    "<br /> \n",
    "\n",
    "## Technical Details\n",
    "***"
   ]
  },
  {
   "cell_type": "code",
   "execution_count": 1,
   "metadata": {
    "slideshow": {
     "slide_type": "fragment"
    }
   },
   "outputs": [],
   "source": [
    "# Import the required Libraries\n",
    "from matplotlib import pyplot as plt\n",
    "import numpy as np\n",
    "\n",
    "# Set it up to work with Jupyter Notebook\n",
    "# (this is a Jupyter command, not Python code)\n",
    "%matplotlib inline"
   ]
  },
  {
   "cell_type": "markdown",
   "metadata": {
    "slideshow": {
     "slide_type": "subslide"
    }
   },
   "source": [
    "## Sample\n",
    "***"
   ]
  },
  {
   "cell_type": "code",
   "execution_count": 2,
   "metadata": {
    "slideshow": {
     "slide_type": "fragment"
    }
   },
   "outputs": [],
   "source": [
    "# Create data\n",
    "\n",
    "def create_sample_chart():\n",
    "    x_series = np.arange(10)\n",
    "    y_series = x_series ** 2\n",
    "\n",
    "    #Plotting to our canvas in memory\n",
    "    plt.plot(x_series, y_series)\n",
    "    #Title of our canvas\n",
    "    plt.title('String Title Here')\n",
    "    #X-axis label\n",
    "    plt.xlabel('X Axis Title Here')\n",
    "    #Y_axis label\n",
    "    plt.ylabel('Y Axis Title Here')\n",
    "\n",
    "    #Showing what we plotted\n",
    "    plt.show();\n"
   ]
  },
  {
   "cell_type": "code",
   "execution_count": 3,
   "metadata": {
    "slideshow": {
     "slide_type": "subslide"
    }
   },
   "outputs": [
    {
     "data": {
      "image/png": "[encoded data removed]",
      "text/plain": [
       "<Figure size 640x480 with 1 Axes>"
      ]
     },
     "metadata": {},
     "output_type": "display_data"
    }
   ],
   "source": [
    "create_sample_chart()"
   ]
  },
  {
   "cell_type": "markdown",
   "metadata": {
    "slideshow": {
     "slide_type": "subslide"
    }
   },
   "source": [
    "<img src=\"../images/icon/ppt-icons.png\" alt=\"Concept-Alert\" style=\"width: 100px;float:left; margin-right:15px\"/>\n",
    "<br /> \n",
    "\n",
    "##  Mini-Challenge - 1\n",
    "***\n",
    "Create a graph for `y = sin(x)`. X values should be from 0 to 10, incrementing in steps of 0.1\n",
    "\n",
    "Remember to label the axes and the chart title appropriately."
   ]
  },
  {
   "cell_type": "code",
   "execution_count": 3,
   "metadata": {
    "slideshow": {
     "slide_type": "fragment"
    }
   },
   "outputs": [],
   "source": [
    "def sine_wave():\n",
    "    '''Write your code here'''"
   ]
  },
  {
   "cell_type": "code",
   "execution_count": 4,
   "metadata": {
    "scrolled": true,
    "slideshow": {
     "slide_type": "subslide"
    }
   },
   "outputs": [],
   "source": [
    "sine_wave()"
   ]
  },
  {
   "cell_type": "markdown",
   "metadata": {
    "slideshow": {
     "slide_type": "slide"
    }
   },
   "source": [
    "# Let's do this with the Weather data!\n",
    "***\n",
    "\n",
    "Quick Refresher:\n",
    "\n",
    "The Weather Dataset is a time-series data set with per-hour information about the weather conditions at a particular location. It records Temperature, Dew Point Temperature, Relative Humidity, Wind Speed, Visibility, Pressure, and Conditions.\n"
   ]
  },
  {
   "cell_type": "markdown",
   "metadata": {
    "slideshow": {
     "slide_type": "subslide"
    }
   },
   "source": [
    "### Read the data set"
   ]
  },
  {
   "cell_type": "code",
   "execution_count": 4,
   "metadata": {
    "slideshow": {
     "slide_type": "fragment"
    }
   },
   "outputs": [
    {
     "data": {
      "text/html": [
       "<div>\n",
       "<style scoped>\n",
       "    .dataframe tbody tr th:only-of-type {\n",
       "        vertical-align: middle;\n",
       "    }\n",
       "\n",
       "    .dataframe tbody tr th {\n",
       "        vertical-align: top;\n",
       "    }\n",
       "\n",
       "    .dataframe thead th {\n",
       "        text-align: right;\n",
       "    }\n",
       "</style>\n",
       "<table border=\"1\" class=\"dataframe\">\n",
       "  <thead>\n",
       "    <tr style=\"text-align: right;\">\n",
       "      <th></th>\n",
       "      <th>Temp (C)</th>\n",
       "      <th>Dew Point Temp (C)</th>\n",
       "      <th>Rel Hum (%)</th>\n",
       "      <th>Wind Spd (km/h)</th>\n",
       "      <th>Visibility (km)</th>\n",
       "      <th>Stn Press (kPa)</th>\n",
       "    </tr>\n",
       "    <tr>\n",
       "      <th>Date/Time</th>\n",
       "      <th></th>\n",
       "      <th></th>\n",
       "      <th></th>\n",
       "      <th></th>\n",
       "      <th></th>\n",
       "      <th></th>\n",
       "    </tr>\n",
       "  </thead>\n",
       "  <tbody>\n",
       "    <tr>\n",
       "      <th>2012-01-01 00:00:00</th>\n",
       "      <td>-1.8</td>\n",
       "      <td>-3.9</td>\n",
       "      <td>86</td>\n",
       "      <td>4</td>\n",
       "      <td>8.0</td>\n",
       "      <td>101.24</td>\n",
       "    </tr>\n",
       "    <tr>\n",
       "      <th>2012-01-01 01:00:00</th>\n",
       "      <td>-1.8</td>\n",
       "      <td>-3.7</td>\n",
       "      <td>87</td>\n",
       "      <td>4</td>\n",
       "      <td>8.0</td>\n",
       "      <td>101.24</td>\n",
       "    </tr>\n",
       "    <tr>\n",
       "      <th>2012-01-01 02:00:00</th>\n",
       "      <td>-1.8</td>\n",
       "      <td>-3.4</td>\n",
       "      <td>89</td>\n",
       "      <td>7</td>\n",
       "      <td>4.0</td>\n",
       "      <td>101.26</td>\n",
       "    </tr>\n",
       "    <tr>\n",
       "      <th>2012-01-01 03:00:00</th>\n",
       "      <td>-1.5</td>\n",
       "      <td>-3.2</td>\n",
       "      <td>88</td>\n",
       "      <td>6</td>\n",
       "      <td>4.0</td>\n",
       "      <td>101.27</td>\n",
       "    </tr>\n",
       "    <tr>\n",
       "      <th>2012-01-01 04:00:00</th>\n",
       "      <td>-1.5</td>\n",
       "      <td>-3.3</td>\n",
       "      <td>88</td>\n",
       "      <td>7</td>\n",
       "      <td>4.8</td>\n",
       "      <td>101.23</td>\n",
       "    </tr>\n",
       "  </tbody>\n",
       "</table>\n",
       "</div>"
      ],
      "text/plain": [
       "                     Temp (C)  Dew Point Temp (C)  Rel Hum (%)  \\\n",
       "Date/Time                                                        \n",
       "2012-01-01 00:00:00      -1.8                -3.9           86   \n",
       "2012-01-01 01:00:00      -1.8                -3.7           87   \n",
       "2012-01-01 02:00:00      -1.8                -3.4           89   \n",
       "2012-01-01 03:00:00      -1.5                -3.2           88   \n",
       "2012-01-01 04:00:00      -1.5                -3.3           88   \n",
       "\n",
       "                     Wind Spd (km/h)  Visibility (km)  Stn Press (kPa)  \n",
       "Date/Time                                                               \n",
       "2012-01-01 00:00:00                4              8.0           101.24  \n",
       "2012-01-01 01:00:00                4              8.0           101.24  \n",
       "2012-01-01 02:00:00                7              4.0           101.26  \n",
       "2012-01-01 03:00:00                6              4.0           101.27  \n",
       "2012-01-01 04:00:00                7              4.8           101.23  "
      ]
     },
     "execution_count": 4,
     "metadata": {},
     "output_type": "execute_result"
    }
   ],
   "source": [
    "# Data Introduction\n",
    "import pandas as pd\n",
    "weather_df = pd.read_csv('./weather_small_2012.csv', parse_dates=True, index_col='Date/Time')\n",
    "weather_df.head(5)"
   ]
  },
  {
   "cell_type": "markdown",
   "metadata": {
    "slideshow": {
     "slide_type": "subslide"
    }
   },
   "source": [
    "## How did the temperature vary amongst the months of the year?\n",
    "***\n",
    "\n",
    "Since we want to compare amongst months, we need one value for each month. Let's pick the mean for doing this.\n",
    "\n",
    "Generate a line chart that visualizes the temperature readings in the month of January:\n",
    "* x-values should be the values should be the months.\n",
    "* y-values should be the mean values in the Temp (C) column per month.\n",
    "\n",
    "Display the plot."
   ]
  },
  {
   "cell_type": "markdown",
   "metadata": {
    "slideshow": {
     "slide_type": "subslide"
    }
   },
   "source": [
    "### Creating the data in the required format"
   ]
  },
  {
   "cell_type": "code",
   "execution_count": 5,
   "metadata": {
    "slideshow": {
     "slide_type": "fragment"
    }
   },
   "outputs": [
    {
     "data": {
      "text/html": [
       "<div>\n",
       "<style scoped>\n",
       "    .dataframe tbody tr th:only-of-type {\n",
       "        vertical-align: middle;\n",
       "    }\n",
       "\n",
       "    .dataframe tbody tr th {\n",
       "        vertical-align: top;\n",
       "    }\n",
       "\n",
       "    .dataframe thead th {\n",
       "        text-align: right;\n",
       "    }\n",
       "</style>\n",
       "<table border=\"1\" class=\"dataframe\">\n",
       "  <thead>\n",
       "    <tr style=\"text-align: right;\">\n",
       "      <th></th>\n",
       "      <th>Temp (C)</th>\n",
       "      <th>Dew Point Temp (C)</th>\n",
       "      <th>Rel Hum (%)</th>\n",
       "      <th>Wind Spd (km/h)</th>\n",
       "      <th>Visibility (km)</th>\n",
       "      <th>Stn Press (kPa)</th>\n",
       "    </tr>\n",
       "    <tr>\n",
       "      <th>Date/Time</th>\n",
       "      <th></th>\n",
       "      <th></th>\n",
       "      <th></th>\n",
       "      <th></th>\n",
       "      <th></th>\n",
       "      <th></th>\n",
       "    </tr>\n",
       "  </thead>\n",
       "  <tbody>\n",
       "    <tr>\n",
       "      <th>1</th>\n",
       "      <td>-7.371505</td>\n",
       "      <td>-12.294758</td>\n",
       "      <td>68.383065</td>\n",
       "      <td>18.108871</td>\n",
       "      <td>22.100269</td>\n",
       "      <td>101.005349</td>\n",
       "    </tr>\n",
       "    <tr>\n",
       "      <th>2</th>\n",
       "      <td>-4.225000</td>\n",
       "      <td>-9.221695</td>\n",
       "      <td>68.956897</td>\n",
       "      <td>14.837644</td>\n",
       "      <td>25.182184</td>\n",
       "      <td>101.142414</td>\n",
       "    </tr>\n",
       "    <tr>\n",
       "      <th>3</th>\n",
       "      <td>3.121237</td>\n",
       "      <td>-3.488575</td>\n",
       "      <td>64.862903</td>\n",
       "      <td>14.514785</td>\n",
       "      <td>26.177957</td>\n",
       "      <td>101.335255</td>\n",
       "    </tr>\n",
       "  </tbody>\n",
       "</table>\n",
       "</div>"
      ],
      "text/plain": [
       "           Temp (C)  Dew Point Temp (C)  Rel Hum (%)  Wind Spd (km/h)  \\\n",
       "Date/Time                                                               \n",
       "1         -7.371505          -12.294758    68.383065        18.108871   \n",
       "2         -4.225000           -9.221695    68.956897        14.837644   \n",
       "3          3.121237           -3.488575    64.862903        14.514785   \n",
       "\n",
       "           Visibility (km)  Stn Press (kPa)  \n",
       "Date/Time                                    \n",
       "1                22.100269       101.005349  \n",
       "2                25.182184       101.142414  \n",
       "3                26.177957       101.335255  "
      ]
     },
     "execution_count": 5,
     "metadata": {},
     "output_type": "execute_result"
    }
   ],
   "source": [
    "monthly_data = weather_df.groupby(weather_df.index.month).mean()\n",
    "monthly_data.head(3)"
   ]
  },
  {
   "cell_type": "code",
   "execution_count": 6,
   "metadata": {
    "slideshow": {
     "slide_type": "fragment"
    }
   },
   "outputs": [],
   "source": [
    "x_series = monthly_data.index\n",
    "y_series = monthly_data['Temp (C)']"
   ]
  },
  {
   "cell_type": "markdown",
   "metadata": {
    "slideshow": {
     "slide_type": "subslide"
    }
   },
   "source": [
    "### Plotting: Step 1"
   ]
  },
  {
   "cell_type": "code",
   "execution_count": 7,
   "metadata": {
    "slideshow": {
     "slide_type": "fragment"
    }
   },
   "outputs": [
    {
     "data": {
      "image/png": "[encoded data removed]",
      "text/plain": [
       "<Figure size 640x480 with 1 Axes>"
      ]
     },
     "metadata": {},
     "output_type": "display_data"
    }
   ],
   "source": [
    "plt.plot(x_series, y_series)\n",
    "\n",
    "plt.title('Temperature Trend, 2012')\n",
    "plt.xlabel('Month')\n",
    "plt.ylabel('Temp (C)')\n",
    "plt.show()"
   ]
  },
  {
   "cell_type": "markdown",
   "metadata": {
    "slideshow": {
     "slide_type": "subslide"
    }
   },
   "source": [
    "\n",
    "### Plotting: Step 2\n",
    "\n",
    "The chart we plotted is decent, but we aren't done yet. The X axis is labelled correctly (\"Month\"), but the values themselves are 2, 4, etc, instead of January, February, etc."
   ]
  },
  {
   "cell_type": "markdown",
   "metadata": {
    "slideshow": {
     "slide_type": "slide"
    }
   },
   "source": [
    "<img src=\"../images/icon/ppt-icons.png\" alt=\"Concept-Alert\" style=\"width: 100px;float:left; margin-right:15px\"/>\n",
    "<br /> \n",
    "\n",
    "##  Mini-Challenge - 2\n",
    "***\n",
    "\n",
    "Generate the same plot as above, but this time the values of the \"Month\" should be January, February etc instead of 1,2,3,etc. "
   ]
  },
  {
   "cell_type": "code",
   "execution_count": 8,
   "metadata": {
    "scrolled": true,
    "slideshow": {
     "slide_type": "fragment"
    }
   },
   "outputs": [
    {
     "name": "stdout",
     "output_type": "stream",
     "text": [
      "['January', 'February', 'March', 'April', 'May', 'June', 'July', 'August', 'September', 'October', 'November', 'December']\n"
     ]
    }
   ],
   "source": [
    "# First, get calendar month names\n",
    "import calendar\n",
    "calendar_months = calendar.month_name[1:]\n",
    "\n",
    "\n",
    "print(calendar_months)"
   ]
  },
  {
   "cell_type": "code",
   "execution_count": 13,
   "metadata": {
    "slideshow": {
     "slide_type": "subslide"
    }
   },
   "outputs": [
    {
     "data": {
      "text/plain": [
       "'Your code goes here'"
      ]
     },
     "execution_count": 13,
     "metadata": {},
     "output_type": "execute_result"
    }
   ],
   "source": [
    "# now we have the names, let's use them instead\n",
    "''' Your code goes here'''\n",
    "\n",
    "\n",
    "# which x_series values to replace by which names\n",
    "'''Your code goes here'''"
   ]
  },
  {
   "cell_type": "markdown",
   "metadata": {
    "slideshow": {
     "slide_type": "subslide"
    }
   },
   "source": [
    "### Plotting: Step 3\n",
    "\n",
    "Almost done, but not quite. We need the X-axis labels to be a bit more legible. Let's rotate them a bit."
   ]
  },
  {
   "cell_type": "markdown",
   "metadata": {
    "slideshow": {
     "slide_type": "subslide"
    }
   },
   "source": [
    "<img src=\"../images/icon/ppt-icons.png\" alt=\"Concept-Alert\" style=\"width: 100px;float:left; margin-right:15px\"/>\n",
    "<br /> \n",
    "\n",
    "##  Mini-Challenge - 3\n",
    "***\n",
    "\n",
    "Generate the same graph as above, but with the X-axis labels rotated, so that they are legible."
   ]
  },
  {
   "cell_type": "code",
   "execution_count": 14,
   "metadata": {
    "slideshow": {
     "slide_type": "fragment"
    }
   },
   "outputs": [
    {
     "data": {
      "text/plain": [
       "'Your code goes here'"
      ]
     },
     "execution_count": 14,
     "metadata": {},
     "output_type": "execute_result"
    }
   ],
   "source": [
    "'''Your code goes here'''"
   ]
  },
  {
   "cell_type": "markdown",
   "metadata": {
    "slideshow": {
     "slide_type": "slide"
    }
   },
   "source": [
    "# Other Plot Types\n",
    "***\n",
    "\n",
    "The chart we have so far worked with is called a Line Chart. There are other types of plots. Some important examples are:\n",
    "- Bar Plots\n",
    "- Histograms\n",
    "- Box Plots\n",
    "- Scatter Plots"
   ]
  },
  {
   "cell_type": "markdown",
   "metadata": {
    "slideshow": {
     "slide_type": "slide"
    }
   },
   "source": [
    "<img src=\"../images/icon/Concept-Alert.png\" alt=\"Concept-Alert\" style=\"width: 100px;float:left; margin-right:15px\"/>\n",
    "<br /> \n",
    "\n",
    "## Barplot\n",
    "***\n",
    "\n",
    "Some of the important characteristics of a barplot are:\n",
    "\n",
    "1. It is a chart or graph that presents grouped data with rectangular bars with lengths proportional to the values that they represent.\n",
    "2. They can be both vertical and horizontal.\n",
    "3. It shows the relationship between a numerical variable and a categorical variable.\n",
    "4. Bar charts can also show big changes in data over time.\n",
    "5. Line graphs are useful for displaying smaller changes in a trend over time. Bar graphs are better for comparing larger changes or differences in data among groups.\n",
    "6. Bar graphs are an effective way to compare items between different groups.\n",
    "\n",
    "\n",
    "\n",
    "\n",
    "Types of bar chart- \n",
    "1. Vertical \n",
    "2. Horizontal\n",
    "3. Stacked\n",
    "\n",
    "\n",
    "The only difference in plotting a bar chart from plotting a line chart is you call **`plt.bar()`** instead of **`plt.plot()`**\n",
    "\n"
   ]
  },
  {
   "cell_type": "markdown",
   "metadata": {
    "slideshow": {
     "slide_type": "subslide"
    }
   },
   "source": [
    "<img src=\"../images/icon/Concept-Alert.png\" alt=\"Concept-Alert\" style=\"width: 100px;float:left; margin-right:15px\"/>\n",
    "<br /> \n",
    "\n",
    "## Let's see how barplot looks !\n",
    "***\n",
    "\n",
    "Let's find the variation in mean visibility, aggregated by day of the week"
   ]
  },
  {
   "cell_type": "code",
   "execution_count": 10,
   "metadata": {
    "slideshow": {
     "slide_type": "fragment"
    }
   },
   "outputs": [],
   "source": [
    "import matplotlib.pyplot as plt\n",
    "import calendar\n",
    "\n",
    "def bar_plot():\n",
    "    weekly_data = weather_df.groupby(weather_df.index.dayofweek).mean()\n",
    "    \n",
    "    plt.bar(weekly_data.index, weekly_data['Visibility (km)'])\n",
    "\n",
    "    plt.title('Visibility by week, 2012')\n",
    "    plt.xlabel('Day of week')\n",
    "    plt.ylabel('Visibility (km)')\n",
    "\n",
    "    plt.xticks(weekly_data.index, calendar.day_abbr, rotation=45)\n",
    "\n",
    "    plt.show()"
   ]
  },
  {
   "cell_type": "code",
   "execution_count": 11,
   "metadata": {
    "slideshow": {
     "slide_type": "subslide"
    }
   },
   "outputs": [
    {
     "data": {
      "image/png": "[encoded data removed]",
      "text/plain": [
       "<Figure size 640x480 with 1 Axes>"
      ]
     },
     "metadata": {},
     "output_type": "display_data"
    }
   ],
   "source": [
    "bar_plot()"
   ]
  },
  {
   "cell_type": "markdown",
   "metadata": {
    "slideshow": {
     "slide_type": "slide"
    }
   },
   "source": [
    "<img src=\"../images/icon/Concept-Alert.png\" alt=\"Concept-Alert\" style=\"width: 100px;float:left; margin-right:15px\"/>\n",
    "<br /> \n",
    "\n",
    "## Histogram\n",
    "***\n",
    "\n",
    "Some important characteristics of histogram are:\n",
    "1. It is a display of statistical information that uses bars to show the frequency of data items in successive numerical intervals of equal size.\n",
    "2. They can be both vertical and horizontal.\n",
    "3. It has only a numerical variable as input and shows its distribution.\n",
    "4. It divides up the range of possible values in a data set into classes or groups.\n",
    "5. Generally, a histogram will have bars of equal width, although this is not the case when class intervals vary in size.\n",
    "6. It is generally used when dealing with large data sets (greater than 100 observations).\n",
    "7. A histogram can also help detect any unusual observations (outliers) or any gaps in the data.\n",
    "8. In a histogram, it is the area of the bar that indicates the frequency of occurrences for each bin. \n",
    "\n",
    "Since a histogram is a plot of frequency(X) vs X, it only needs one series.\n"
   ]
  },
  {
   "cell_type": "code",
   "execution_count": 12,
   "metadata": {},
   "outputs": [
    {
     "data": {
      "image/png": "[encoded data removed]",
      "text/plain": [
       "<Figure size 640x480 with 1 Axes>"
      ]
     },
     "metadata": {},
     "output_type": "display_data"
    }
   ],
   "source": [
    "# Sample histogram \n",
    "\n",
    "x = np.arange(0, 10, 0.1)\n",
    "y1 = (((x - 3) ** 3 ) - 100) + np.random.randint(-20, 20, size=len(x))\n",
    "\n",
    "plt.hist(y1)\n",
    "plt.show()"
   ]
  },
  {
   "cell_type": "markdown",
   "metadata": {
    "slideshow": {
     "slide_type": "subslide"
    }
   },
   "source": [
    "<img src=\"../images/icon/ppt-icons.png\" alt=\"Concept-Alert\" style=\"width: 100px;float:left; margin-right:15px\"/>\n",
    "<br /> \n",
    "\n",
    "##  Mini-Challenge - 4\n",
    "***\n",
    "\n",
    "Find the distribution of values in the Wind Speed column"
   ]
  },
  {
   "cell_type": "code",
   "execution_count": 18,
   "metadata": {
    "slideshow": {
     "slide_type": "fragment"
    }
   },
   "outputs": [],
   "source": [
    "def hist_plot():\n",
    "    '''Your code goes here'''"
   ]
  },
  {
   "cell_type": "code",
   "execution_count": 19,
   "metadata": {
    "slideshow": {
     "slide_type": "subslide"
    }
   },
   "outputs": [],
   "source": [
    "hist_plot()"
   ]
  },
  {
   "cell_type": "markdown",
   "metadata": {
    "slideshow": {
     "slide_type": "slide"
    }
   },
   "source": [
    "<img src=\"../images/icon/Concept-Alert.png\" alt=\"Concept-Alert\" style=\"width: 100px;float:left; margin-right:15px\"/>\n",
    "<br /> \n",
    "\n",
    "## Box Plot\n",
    "***\n",
    "\n",
    "In descriptive statistics, a box plot is a method for graphically depicting groups of numerical data through their quartiles.\n",
    "\n",
    "Some important characteristics of a box plot are:\n",
    "1. A boxplot is a standardized way of displaying the distribution of data based on the five number summary: minimum, first quartile, median, third quartile, and maximum.\n",
    "2. Simplest possible box plot displays the full range of variation (from min to max), the likely range of variation (the IQR), and a typical value (the median).\n",
    " Not uncommonly real datasets will display surprisingly high maximums or surprisingly low minimums called  outliers. John Tukey has provided a precise definition for two types of outliers:\n",
    " (a) Outliers are either 3×IQR or more above the third quartile or 3×IQR or more below the first quartile.\n",
    " (b) Suspected outliers are are slightly more central versions of outliers: either 1.5×IQR or more above the third quartile or 1.5×IQR or lesser below the first quartile.\n"
   ]
  },
  {
   "cell_type": "markdown",
   "metadata": {
    "slideshow": {
     "slide_type": "subslide"
    }
   },
   "source": [
    "<img src=\"../images/W@S_boxplot-labels.png\" , width= 500, height=200>\n",
    "\n",
    "Now, lets discuss some important definitions that we commonly encounter while generating a boxplot.\n",
    "\n",
    "**Median**-\n",
    "The median (middle quartile) marks the mid-point of the data and is shown by the line that divides the box into two parts. Half the scores are greater than or equal to this value and half are less.\n",
    "\n",
    "**Inter-quartile range**-\n",
    "The middle “box” represents the middle 50% of scores for the group. The range of scores from lower to upper quartile is referred to as the inter-quartile range. The middle 50% of scores fall within the inter-quartile range.\n",
    "\n",
    "**Upper quartile**-\n",
    "Seventy-five percent of the scores fall below the upper quartile.\n",
    "\n",
    "**Lower quartile**-\n",
    "Twenty-five percent of scores fall below the lower quartile.\n",
    "\n",
    "**Whiskers**-\n",
    "The upper and lower whiskers represent scores outside the middle 50%. Whiskers often (but not always) stretch over a wider range of scores than the middle quartile groups."
   ]
  },
  {
   "cell_type": "code",
   "execution_count": 13,
   "metadata": {},
   "outputs": [
    {
     "data": {
      "image/png": "[encoded data removed]",
      "text/plain": [
       "<Figure size 640x480 with 1 Axes>"
      ]
     },
     "metadata": {},
     "output_type": "display_data"
    }
   ],
   "source": [
    "# Sample boxplot \n",
    "\n",
    "x= np.arange(0, 10, 0.1)\n",
    "y = np.exp(x)\n",
    "\n",
    "plt.boxplot(y)\n",
    "plt.show()"
   ]
  },
  {
   "cell_type": "markdown",
   "metadata": {},
   "source": [
    "<img src=\"../images/icon/ppt-icons.png\" alt=\"Concept-Alert\" style=\"width: 100px;float:left; margin-right:15px\"/>\n",
    "<br /> \n",
    "\n",
    "##  Mini-Challenge - 5\n",
    "***\n",
    "\n",
    "Draw a boxplot for wind speed "
   ]
  },
  {
   "cell_type": "code",
   "execution_count": 21,
   "metadata": {
    "slideshow": {
     "slide_type": "subslide"
    }
   },
   "outputs": [],
   "source": [
    "def box_plot():\n",
    "    '''Your code goes here'''"
   ]
  },
  {
   "cell_type": "code",
   "execution_count": 22,
   "metadata": {
    "slideshow": {
     "slide_type": "subslide"
    }
   },
   "outputs": [],
   "source": [
    "box_plot()"
   ]
  },
  {
   "cell_type": "markdown",
   "metadata": {
    "slideshow": {
     "slide_type": "slide"
    }
   },
   "source": [
    "<img src=\"../images/icon/Concept-Alert.png\" alt=\"Concept-Alert\" style=\"width: 100px;float:left; margin-right:15px\"/>\n",
    "<br /> \n",
    "\n",
    "## Scatter Plot\n",
    "***\n",
    "\n",
    "Scatter plots are similar to line graphs in that they use horizontal and vertical axes to plot data points. However, they have a very specific purpose. Scatter plots show how much one variable is affected by another. The relationship between two variables is called their correlation .\n",
    "\n",
    "Some important characteristics of a scatter plot are:\n",
    "1. A scatter plot can indicate the presence or absence of an association or relationship between two variables.\n",
    "    * If some association or relationship exists, the data will tend to cluster on or around some line or\n",
    "      curve that cuts through the plotted points.\n",
    "    * If no association or relationship exists, the data will appear spread out.\n",
    "2. When some association or relationship exists between two variables, a scatter plot can indicate the direction of the relationship.\n",
    "    * When high values of one variable correspond to high values of another variable, and low values of one variable correspond to low values of another variable, we say the relationship is positive because there is a direct relationship between the two variables.\n",
    "    * When high values of one variable correspond to low values of another variable, and low values of one variable correspond to high values of another variable, we say the relationship is negative because there is an inverse relationship between the two variables.\n",
    "3. Calculating the correlation coefficient will give us a precise number and a scatter plot helps us find outliers, gain a more intuitive sense of how spread out the data is. \n",
    "4. A scatter plot can be used to help determine if an association or relationship is linear or nonlinear.\n",
    "5. A scatter plot provides a visual revelation of outliers on dubiously measured or erroneously plotted data.\n",
    "\n"
   ]
  },
  {
   "cell_type": "markdown",
   "metadata": {
    "slideshow": {
     "slide_type": "subslide"
    }
   },
   "source": [
    "## Spotting correlation in scatter plots\n",
    "\n",
    "![](../images/KssJXmts69TqMUTHuuFVDQFu.bmp)"
   ]
  },
  {
   "cell_type": "markdown",
   "metadata": {
    "slideshow": {
     "slide_type": "subslide"
    }
   },
   "source": [
    "### Example\n",
    "\n",
    "![](../images/sample_scatterplot2.png)"
   ]
  },
  {
   "cell_type": "code",
   "execution_count": 14,
   "metadata": {
    "slideshow": {
     "slide_type": "skip"
    }
   },
   "outputs": [
    {
     "data": {
      "image/png": "[encoded data removed]",
      "text/plain": [
       "<Figure size 640x480 with 1 Axes>"
      ]
     },
     "metadata": {},
     "output_type": "display_data"
    }
   ],
   "source": [
    "# Sample scatter plot\n",
    "\n",
    "x= np.arange(0, 10, 0.1)\n",
    "y1 = (((x - 3) ** 3 ) - 100) + np.random.randint(-20, 20, size=len(x))\n",
    "y2 = (((3 - x) ** 3 ) + 50) + np.random.randint(-20, 20, size=len(x))\n",
    "\n",
    "plt.scatter(x, y1, c='r')\n",
    "plt.scatter(x, y2, c='b')\n",
    "plt.show()"
   ]
  },
  {
   "cell_type": "markdown",
   "metadata": {
    "slideshow": {
     "slide_type": "subslide"
    }
   },
   "source": [
    "<img src=\"../images/icon/ppt-icons.png\" alt=\"Concept-Alert\" style=\"width: 100px;float:left; margin-right:15px\"/>\n",
    "<br /> \n",
    "\n",
    "##  Mini-Challenge - 6\n",
    "***\n",
    "\n",
    "Are the temperature and pressure correlated, according to the data in the month of January? Look at it by generating a scatter plot"
   ]
  },
  {
   "cell_type": "code",
   "execution_count": 24,
   "metadata": {
    "slideshow": {
     "slide_type": "fragment"
    }
   },
   "outputs": [],
   "source": [
    "jan_df = weather_df['2012-01']\n",
    "\n",
    "def scatter_plot():\n",
    "    '''Your code goes here'''"
   ]
  },
  {
   "cell_type": "code",
   "execution_count": 25,
   "metadata": {
    "scrolled": true,
    "slideshow": {
     "slide_type": "subslide"
    }
   },
   "outputs": [],
   "source": [
    "scatter_plot()"
   ]
  },
  {
   "cell_type": "markdown",
   "metadata": {
    "slideshow": {
     "slide_type": "slide"
    }
   },
   "source": [
    "<img src=\"../images/icon/Technical-Stuff.png\" alt=\"Concept-Alert\" style=\"width: 100px;float:left; margin-right:15px\"/>\n",
    "<br /> \n",
    "\n",
    "# Plot Customizations\n",
    "***\n",
    "\n",
    "Matplotlib being a low level library, provides a lot of ways to customize your plots."
   ]
  },
  {
   "cell_type": "markdown",
   "metadata": {
    "slideshow": {
     "slide_type": "subslide"
    }
   },
   "source": [
    "Some examples include:\n",
    "- Configuring the line (color, width, ticks, etc)\n",
    "- Configuring the axes (setting limits, layout, etc.)\n",
    "- Figure and Sub Plots: Multiple plots on one canvas\n",
    "- Configuring the figure size\n",
    "- Adding legends, etc."
   ]
  },
  {
   "cell_type": "markdown",
   "metadata": {
    "slideshow": {
     "slide_type": "subslide"
    }
   },
   "source": [
    "## Configuring the plotted line\n",
    "***\n",
    "\n",
    "It's easy to set colors, line types, etc. An example is below."
   ]
  },
  {
   "cell_type": "code",
   "execution_count": 15,
   "metadata": {
    "slideshow": {
     "slide_type": "fragment"
    }
   },
   "outputs": [
    {
     "name": "stderr",
     "output_type": "stream",
     "text": [
      "/var/folders/4w/crldx3nn537gxgqp38n9lgv40000gn/T/ipykernel_1701/1276460130.py:5: UserWarning: Matplotlib is currently using module://matplotlib_inline.backend_inline, which is a non-GUI backend, so cannot show the figure.\n",
      "  fig.show()\n"
     ]
    },
    {
     "data": {
      "image/png": "[encoded data removed]",
      "text/plain": [
       "<Figure size 640x480 with 1 Axes>"
      ]
     },
     "metadata": {},
     "output_type": "display_data"
    }
   ],
   "source": [
    "fig, ax = plt.subplots()\n",
    "ax.plot(x, x**2, 'b.-') # blue line with dots\n",
    "ax.plot(x, x**2.5, 'g--') # green dashed line\n",
    "ax.plot(x, x**3, c='r') # red line color\n",
    "fig.show()"
   ]
  },
  {
   "cell_type": "markdown",
   "metadata": {
    "slideshow": {
     "slide_type": "subslide"
    }
   },
   "source": [
    "## `.figure()` and `.axes()`\n",
    "***\n",
    "\n",
    "**Figure:** This object essentially returns a new figure to work with. Axes need to be added to the figure to plot on it. The Figure is the overall window or page that everything is drawn on. You can create multiple independent Figures. A Figure can have several other things in it(subtitle, legend, color bar etc).\n",
    "\n",
    "**Axes:** To the figure you add Axes. The Axes is the area on which the data is plotted with functions such as plot() and scatter() and that can have ticks, labels, etc. associated with it. This explains why Figures can contain multiple Axes.\n",
    "\n",
    "The methods on axes work the same way as **`.plot()`**"
   ]
  },
  {
   "cell_type": "code",
   "execution_count": 16,
   "metadata": {
    "slideshow": {
     "slide_type": "subslide"
    }
   },
   "outputs": [],
   "source": [
    "def two_plots():\n",
    "    x = np.array([0, 1, 2, 3, 4, 5])\n",
    "    y = x ** 2\n",
    "\n",
    "    # Create Figure (empty canvas)\n",
    "    fig = plt.figure()\n",
    "\n",
    "    # Add set of axes to figure\n",
    "    axes1 = fig.add_axes([0.1, 0.1, 0.8, 0.8]) # main axes\n",
    "    axes2 = fig.add_axes([0.2, 0.5, 0.4, 0.3]) # inset axes \n",
    "    # (0.2x left, 0.5x bottom) to (0.4x width, 0.3x height)\n",
    "\n",
    "    # Larger Figure Axes 1\n",
    "    axes1.plot(x, y, 'b')\n",
    "    axes1.set_xlabel('X_label_axes1')\n",
    "    axes1.set_ylabel('Y_label_axes1')\n",
    "    axes1.set_title('Axes 1 Title')\n",
    "\n",
    "    # Insert Figure Axes 2\n",
    "    axes2.plot(y, x, 'r')\n",
    "    axes2.set_xlabel('X_label_axes2')\n",
    "    axes2.set_ylabel('Y_label_axes2')\n",
    "    axes2.set_title('Axes 2 Title');    "
   ]
  },
  {
   "cell_type": "code",
   "execution_count": 17,
   "metadata": {
    "slideshow": {
     "slide_type": "subslide"
    }
   },
   "outputs": [
    {
     "data": {
      "image/png": "[encoded data removed]",
      "text/plain": [
       "<Figure size 640x480 with 2 Axes>"
      ]
     },
     "metadata": {},
     "output_type": "display_data"
    }
   ],
   "source": [
    "two_plots()"
   ]
  },
  {
   "cell_type": "markdown",
   "metadata": {
    "slideshow": {
     "slide_type": "subslide"
    }
   },
   "source": [
    "## `.subplots()`\n",
    "***\n",
    "\n",
    "The plt.subplots() object will act as a more automatic axis manager and is used to creating multiple charts on the same figure. It is similar to `plt.figure()`, except use tuple unpacking to grab fig and axes.\n"
   ]
  },
  {
   "cell_type": "code",
   "execution_count": 18,
   "metadata": {
    "slideshow": {
     "slide_type": "fragment"
    }
   },
   "outputs": [
    {
     "data": {
      "image/png": "[encoded data removed]",
      "text/plain": [
       "<Figure size 640x480 with 4 Axes>"
      ]
     },
     "metadata": {},
     "output_type": "display_data"
    }
   ],
   "source": [
    "# Canvas of 2 by 2 subplots\n",
    "fig, axes = plt.subplots(nrows=2, ncols=2)\n",
    "\n",
    "# axes is an array of shape (2, 2)"
   ]
  },
  {
   "cell_type": "markdown",
   "metadata": {
    "slideshow": {
     "slide_type": "subslide"
    }
   },
   "source": [
    "<img src=\"../images/icon/ppt-icons.png\" alt=\"Concept-Alert\" style=\"width: 100px;float:left; margin-right:15px\"/>\n",
    "<br /> \n",
    "\n",
    "##  Mini-Challenge - 7\n",
    "***\n",
    "\n",
    "### Create a figure with four subplots, and plot `y = x ** 2` on the first and last plots\n",
    "\n",
    "Make the color red in the first subplot, and a green dashed line in the last"
   ]
  },
  {
   "cell_type": "code",
   "execution_count": 30,
   "metadata": {
    "slideshow": {
     "slide_type": "fragment"
    }
   },
   "outputs": [],
   "source": [
    "def sub_plots_example():\n",
    "    '''Your code goes here'''"
   ]
  },
  {
   "cell_type": "code",
   "execution_count": 31,
   "metadata": {
    "slideshow": {
     "slide_type": "subslide"
    }
   },
   "outputs": [],
   "source": [
    "sub_plots_example()"
   ]
  },
  {
   "cell_type": "markdown",
   "metadata": {
    "slideshow": {
     "slide_type": "subslide"
    }
   },
   "source": [
    "## `.xlim` & `.ylim`\n",
    "\n",
    "We can configure the ranges of the axes using the set_ylim and set_xlim methods in the axis object, \n",
    "or axis('tight') for automatically getting \"tightly fitted\" axes ranges."
   ]
  },
  {
   "cell_type": "markdown",
   "metadata": {
    "slideshow": {
     "slide_type": "subslide"
    }
   },
   "source": [
    "## `.tight_layout()`\n",
    "\n",
    "A common issue with matplotlib is overlapping subplots or figures. We can use **`fig.tight_layout()`** or **`plt.tight_layout()`** method, which automatically adjusts the positions of the axes on the figure canvas so that there is no overlapping content."
   ]
  },
  {
   "cell_type": "markdown",
   "metadata": {
    "slideshow": {
     "slide_type": "subslide"
    }
   },
   "source": [
    "## `.figsize`\n",
    "figsize is a tuple of the width and height of the figure in inches"
   ]
  },
  {
   "cell_type": "markdown",
   "metadata": {
    "slideshow": {
     "slide_type": "subslide"
    }
   },
   "source": [
    "## `.legend()`\n",
    "You can use the label=\"label text\" keyword argument when plots or other objects are added to the figure, and then using the legend method without arguments to add the legend to the figure."
   ]
  },
  {
   "cell_type": "markdown",
   "metadata": {
    "slideshow": {
     "slide_type": "subslide"
    }
   },
   "source": [
    "## `.savefig()`\n",
    "***\n",
    "\n",
    "Matplotlib can generate high-quality output in a number formats, including PNG, JPG, EPS, SVG, PGF and PDF.\n",
    "\n",
    "    fig.savefig(\"filename.png\", dpi=200)"
   ]
  },
  {
   "cell_type": "markdown",
   "metadata": {
    "slideshow": {
     "slide_type": "slide"
    }
   },
   "source": [
    "<img src=\"../images/icon/Concept-Alert.png\" alt=\"Concept-Alert\" style=\"width: 100px;float:left; margin-right:15px\"/>\n",
    "<br /> \n",
    "\n",
    "# Seaborn\n",
    "***\n",
    "\n",
    "Seaborn is a Python visualization library based on matplotlib. It provides a high-level interface for drawing attractive statistical graphics.\n",
    "\n",
    "Understanding matplotlib was essential for understanding how to create plots, but we'll be using Seaborn for general data analysis."
   ]
  },
  {
   "cell_type": "markdown",
   "metadata": {
    "slideshow": {
     "slide_type": "subslide"
    }
   },
   "source": [
    "## Why? Because it's beautiful and easy!\n",
    "***\n",
    "\n",
    "Let's revisit a question we solved today: **What is the distribution of values in the Wind Speed column?**"
   ]
  },
  {
   "cell_type": "code",
   "execution_count": 19,
   "metadata": {
    "slideshow": {
     "slide_type": "fragment"
    }
   },
   "outputs": [
    {
     "name": "stderr",
     "output_type": "stream",
     "text": [
      "/var/folders/4w/crldx3nn537gxgqp38n9lgv40000gn/T/ipykernel_1701/3587293467.py:2: UserWarning: \n",
      "\n",
      "`distplot` is a deprecated function and will be removed in seaborn v0.14.0.\n",
      "\n",
      "Please adapt your code to use either `displot` (a figure-level function with\n",
      "similar flexibility) or `histplot` (an axes-level function for histograms).\n",
      "\n",
      "For a guide to updating your code to use the new functions, please see\n",
      "https://gist.github.com/mwaskom/de44147ed2974457ad6372750bbe5751\n",
      "\n",
      "  sns.distplot(weather_df['Wind Spd (km/h)'], bins=25)\n"
     ]
    },
    {
     "data": {
      "text/plain": [
       "<AxesSubplot: xlabel='Wind Spd (km/h)', ylabel='Density'>"
      ]
     },
     "execution_count": 19,
     "metadata": {},
     "output_type": "execute_result"
    },
    {
     "data": {
      "image/png": "[encoded data removed]",
      "text/plain": [
       "<Figure size 640x480 with 1 Axes>"
      ]
     },
     "metadata": {},
     "output_type": "display_data"
    }
   ],
   "source": [
    "import seaborn as sns\n",
    "sns.distplot(weather_df['Wind Spd (km/h)'], bins=25)"
   ]
  },
  {
   "cell_type": "markdown",
   "metadata": {
    "slideshow": {
     "slide_type": "slide"
    }
   },
   "source": [
    "# Further Reading\n",
    "***\n",
    "\n",
    "- Matplotlib documentation: https://matplotlib.org/\n",
    "- Seaborn documentation: https://seaborn.pydata.org/"
   ]
  },
  {
   "cell_type": "markdown",
   "metadata": {
    "slideshow": {
     "slide_type": "slide"
    }
   },
   "source": [
    "<img src=\"../images/icon/Recap.png\" alt=\"Recap\" style=\"width: 100px;float:left; margin-right:15px\"/>\n",
    "<br />\n",
    "\n",
    "# In-session Recap Time\n",
    "***\n",
    "\n",
    "- Python Data Visualization Libraries\n",
    "    - Matplotlib\n",
    "- Plot Types    \n",
    "    - Bar Plots\n",
    "    - Histograms\n",
    "    - Box Plots\n",
    "    - Scatter Plots\n",
    "- Plot Customization"
   ]
  }
 ],
 "metadata": {
  "celltoolbar": "Slideshow",
  "kernelspec": {
   "display_name": "Python 3",
   "language": "python",
   "name": "python3"
  },
  "language_info": {
   "codemirror_mode": {
    "name": "ipython",
    "version": 3
   },
   "file_extension": ".py",
   "mimetype": "text/x-python",
   "name": "python",
   "nbconvert_exporter": "python",
   "pygments_lexer": "ipython3",
   "version": "3.8.9"
  },
  "toc": {
   "colors": {
    "hover_highlight": "#DAA520",
    "running_highlight": "#FF0000",
    "selected_highlight": "#FFD700"
   },
   "moveMenuLeft": true,
   "nav_menu": {
    "height": "381px",
    "width": "252px"
   },
   "navigate_menu": true,
   "number_sections": true,
   "sideBar": true,
   "threshold": "2",
   "toc_cell": false,
   "toc_section_display": "block",
   "toc_window_display": true
  },
  "widgets": {
   "state": {},
   "version": "1.1.2"
  }
 },
 "nbformat": 4,
 "nbformat_minor": 2
}
